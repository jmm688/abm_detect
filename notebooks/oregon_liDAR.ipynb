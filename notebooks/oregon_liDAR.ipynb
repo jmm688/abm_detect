{
 "cells": [
  {
   "cell_type": "code",
   "execution_count": null,
   "id": "35b193a3",
   "metadata": {},
   "outputs": [],
   "source": [
    "''' \n",
    "Purpose of this notebook is to experiment with lidar data and begin to play arround \n",
    "with time series analysis.\n",
    "\n",
    "Input: Lidar data from oregon\n",
    "'''"
   ]
  },
  {
   "cell_type": "code",
   "execution_count": 1,
   "id": "6c7112c7",
   "metadata": {},
   "outputs": [],
   "source": [
    "import pdal\n",
    "import glob\n",
    "import io\n",
    "import ipyleaflet\n",
    "import IPython.display\n",
    "import ipyvolume.pylab as p3\n",
    "import matplotlib.cm\n",
    "import matplotlib.pyplot as plt\n",
    "import numpy as np\n",
    "import pandas as pd\n",
    "import shapely.geometry\n",
    "import scipy.spatial\n",
    "import pyproj\n",
    "\n",
    "import os\n",
    "import requests\n",
    "import json\n",
    "import sys\n",
    "import urllib.request\n"
   ]
  },
  {
   "cell_type": "code",
   "execution_count": 2,
   "id": "b3f4acc6",
   "metadata": {},
   "outputs": [
    {
     "data": {
      "application/vnd.jupyter.widget-view+json": {
       "model_id": "7e8e58cecf594f0fb4ca5731062ca830",
       "version_major": 2,
       "version_minor": 0
      },
      "text/plain": [
       "Map(center=[45.688698, -121.760025], controls=(ZoomControl(options=['position', 'zoom_in_text', 'zoom_in_title…"
      ]
     },
     "metadata": {},
     "output_type": "display_data"
    }
   ],
   "source": [
    "m = ipyleaflet.Map(center=(45.688698,-121.760025), zoom=13)\n",
    "m"
   ]
  },
  {
   "cell_type": "code",
   "execution_count": 3,
   "id": "5b2e5e65",
   "metadata": {},
   "outputs": [],
   "source": [
    "dc = ipyleaflet.DrawControl()\n",
    "m.add_control(dc)"
   ]
  },
  {
   "cell_type": "code",
   "execution_count": 24,
   "id": "bfc3840c",
   "metadata": {},
   "outputs": [
    {
     "data": {
      "text/plain": [
       "{'type': 'Point', 'coordinates': [-121.743104, 45.686535]}"
      ]
     },
     "execution_count": 24,
     "metadata": {},
     "output_type": "execute_result"
    }
   ],
   "source": [
    "dc.last_draw['geometry']#['coordinates']"
   ]
  },
  {
   "cell_type": "code",
   "execution_count": 6,
   "id": "d80e6a83",
   "metadata": {},
   "outputs": [
    {
     "name": "stdout",
     "output_type": "stream",
     "text": [
      "POLYGON ((1682932.047131753 739248.3801158334, 1683803.136131753 739248.3801158334, 1683803.136131753 740037.4101158334, 1682932.047131753 740037.4101158334, 1682932.047131753 739248.3801158334))\n"
     ]
    },
    {
     "data": {
      "image/svg+xml": [
       "<svg xmlns=\"http://www.w3.org/2000/svg\" xmlns:xlink=\"http://www.w3.org/1999/xlink\" width=\"300\" height=\"300\" viewBox=\"1682897.2035717529 739213.5365558334 940.7761199998204 858.7171199999284\" preserveAspectRatio=\"xMinYMin meet\"><g transform=\"matrix(1,0,0,-1,0,1479285.7902316668)\"><path fill-rule=\"evenodd\" fill=\"#66cc99\" stroke=\"#555555\" stroke-width=\"6.271840799998802\" opacity=\"0.6\" d=\"M 1682932.0471317528,739248.3801158334 L 1683803.1361317527,739248.3801158334 L 1683803.1361317527,740037.4101158334 L 1682932.0471317528,740037.4101158334 L 1682932.0471317528,739248.3801158334 z\" /></g></svg>"
      ],
      "text/plain": [
       "<shapely.geometry.polygon.Polygon at 0x7f2cff6b71c0>"
      ]
     },
     "metadata": {},
     "output_type": "display_data"
    }
   ],
   "source": [
    "wsg84 = pyproj.Proj('epsg:4326')\n",
    "lambert = pyproj.Proj('epsg:32026')\n",
    "#coords = [pyproj.transform(wsg84,lambert,x,y) for (x,y) in dc.last_draw['geometry']['coordinates'][0]]\n",
    "#polygon = shapely.geometry.Polygon(coords)\n",
    "#print(polygon.wkt)\n",
    "#IPython.display.display(polygon)\n",
    "#coords\n",
    "#but = shapely.geometry.Polygon[(1682932.047131752828136, 739248.38011583336629], [1683803.136131752748042,739248.38011583336629 ], [1683803.136131752748042,740037.410115833394229], [1682932.047131752828136,740037.410115833394229], [1682932.047131752828136,739248.38011583336629)]\n",
    "\n",
    "#oregon\n",
    "coords = [(1682932.047131752828136, 739248.38011583336629), (1683803.136131752748042,739248.38011583336629), (1683803.136131752748042,740037.410115833394229), (1682932.047131752828136,740037.410115833394229), (1682932.047131752828136,739248.38011583336629)]\n",
    "polygon = shapely.geometry.Polygon(coords)\n",
    "#polygon\n",
    "\n",
    "\n",
    "\n",
    "#coords = [(-121.742387772078075, 45.687139928911662), (-121.739387772078075, 45.687139928911662), (-121.739387772078075,45.690139928911663), (-121.742387772078075, 45.690139928911663), (-121.742387772078075, 45.687139928911662)]\n",
    "#polygon = shapely.geometry.Polygon(coords)\n",
    "print(polygon.wkt)\n",
    "IPython.display.display(polygon)\n",
    "\n"
   ]
  },
  {
   "cell_type": "code",
   "execution_count": 186,
   "id": "6c4c9c4c",
   "metadata": {},
   "outputs": [],
   "source": [
    "jr_las = '/home/jose/Desktop/LiDAR_oregon/JR05_2018/points.las'\n",
    "jr_las2 = '/home/jose/Github/my_projs/abm_detect/notebooks/JR_crop.bpf'"
   ]
  },
  {
   "cell_type": "code",
   "execution_count": 55,
   "id": "a127dde9",
   "metadata": {},
   "outputs": [],
   "source": [
    "point = shapely.geometry.Point(dc.last_draw['geometry']['coordinates'])\n",
    "point = shapely.geometry.Point([-121.744288317259716, 45.685326471026336])"
   ]
  },
  {
   "cell_type": "code",
   "execution_count": 56,
   "id": "764cb0aa",
   "metadata": {},
   "outputs": [
    {
     "data": {
      "image/svg+xml": [
       "<svg xmlns=\"http://www.w3.org/2000/svg\" xmlns:xlink=\"http://www.w3.org/1999/xlink\" width=\"100.0\" height=\"100.0\" viewBox=\"-122.74428831725972 44.685326471026336 2.0 2.0\" preserveAspectRatio=\"xMinYMin meet\"><g transform=\"matrix(1,0,0,-1,0,91.37065294205267)\"><circle cx=\"-121.74428831725972\" cy=\"45.685326471026336\" r=\"0.06\" stroke=\"#555555\" stroke-width=\"0.02\" fill=\"#66cc99\" opacity=\"0.6\" /></g></svg>"
      ],
      "text/plain": [
       "<shapely.geometry.point.Point at 0x7f2cf9068940>"
      ]
     },
     "execution_count": 56,
     "metadata": {},
     "output_type": "execute_result"
    }
   ],
   "source": [
    "point"
   ]
  },
  {
   "cell_type": "code",
   "execution_count": 222,
   "id": "24b41525",
   "metadata": {},
   "outputs": [
    {
     "name": "stdout",
     "output_type": "stream",
     "text": [
      "CPU times: user 1.75 s, sys: 24 ms, total: 1.77 s\n",
      "Wall time: 1.78 s\n",
      "Pipeline selected 1787152 points (1787152.0 pts/m2)\n"
     ]
    }
   ],
   "source": [
    "# carefull!!! WILL write a file!\n",
    "\n",
    "b = polygon.bounds\n",
    "cropper = {\n",
    "    \"pipeline\": [ jr_las,\n",
    "   \n",
    "        {   \"type\":\"filters.crop\",\n",
    "             \"a_srs\": \"EPSG:4326\",\n",
    "             \"point\":point.wkt,\n",
    "             \"distance\": 500\n",
    "        },\n",
    "        \n",
    "        {\n",
    "            \"type\": \"filters.range\",\n",
    "            \"limits\":\"Classification[:8]\",\n",
    "        },\n",
    "        \n",
    "        {   \"type\":\"filters.eigenvalues\",\n",
    "            \"knn\":16},\n",
    "        {   \"type\":\"filters.normal\",\n",
    "            \"knn\":16},\n",
    "        {   \"type\":\"filters.hag_nn\"},\n",
    "        \n",
    "        {   \"type\": \"writers.bpf\",\n",
    "             \"filename\": \"./JR_crop.bpf\"\n",
    "            \n",
    "        }\n",
    "    ]}\n",
    "pipeline = pdal.Pipeline(json.dumps(cropper))\n",
    "pipeline.validate()\n",
    "%time n_points = pipeline.execute()\n",
    "print('Pipeline selected {} points ({:.1f} pts/m2)'.format(n_points, n_points))"
   ]
  },
  {
   "cell_type": "code",
   "execution_count": 187,
   "id": "c647195d",
   "metadata": {},
   "outputs": [
    {
     "name": "stdout",
     "output_type": "stream",
     "text": [
      "CPU times: user 322 ms, sys: 4.02 ms, total: 326 ms\n",
      "Wall time: 323 ms\n",
      "Pipeline selected 210188 points (210188.0 pts/m2)\n"
     ]
    }
   ],
   "source": [
    "cropper = {\n",
    "    \"pipeline\": [ jr_las2,\n",
    "  \n",
    "        \n",
    "        {\n",
    "            \"type\": \"filters.range\",\n",
    "            \"limits\":\"Classification[:8]\",\n",
    "        },\n",
    "                 \n",
    "                 \n",
    "        \n",
    "    ]}\n",
    "\n",
    "pipeline = pdal.Pipeline(json.dumps(cropper))\n",
    "pipeline.validate()\n",
    "%time n_points = pipeline.execute()\n",
    "print('Pipeline selected {} points ({:.1f} pts/m2)'.format(n_points, n_points))"
   ]
  },
  {
   "cell_type": "code",
   "execution_count": 57,
   "id": "3351d72e",
   "metadata": {},
   "outputs": [
    {
     "name": "stdout",
     "output_type": "stream",
     "text": [
      "Pipeline selected 0 points (0.0 pts/m2)\n"
     ]
    }
   ],
   "source": []
  },
  {
   "cell_type": "code",
   "execution_count": null,
   "id": "65388e7d",
   "metadata": {},
   "outputs": [],
   "source": [
    "# DOES NOT WORK!!!! \n",
    "# Still needs to work with a polygon instead of a point!\n",
    "\n",
    "bounds = polygon.bounds\n",
    "cropper = {\n",
    "    \"pipeline\": [\n",
    "        \n",
    "    {\n",
    "            \"type\": \"readers.las\",\n",
    "            \"spatialreference\": \"EPSG:4326\",\n",
    "            \"filename\": jr_las\n",
    "        },\n",
    "        \n",
    "        {\n",
    "            \"type\": \"filters.range\",\n",
    "            \"limits\":\"Classification[:8]\",\n",
    "        },\n",
    "        \n",
    "        {   \"type\":\"filters.reprojection\",\n",
    "            \"in_srs\":\"EPSG:4326\",\n",
    "            \"out_srs\":\"EPSG:32026\"\n",
    "        },\n",
    "        \n",
    "      \n",
    "        {   \"type\":\"filters.crop\",\n",
    "            \"a_srs\": \"EPSG:32026\",\n",
    "            \"polygon\": polygon.wkt,\n",
    "            \"outside\": \"false\"\n",
    "        },\n",
    "        \n",
    "\n",
    "    ]}\n",
    "\n",
    "\n",
    "\n",
    "pipeline = pdal.Pipeline(json.dumps(cropper))\n",
    "pipeline.validate()\n",
    "n_points = pipeline.execute()\n",
    "print('Pipeline selected {} points ({:.1f} pts/m2)'.format(n_points, n_points/polygon.area))"
   ]
  },
  {
   "cell_type": "code",
   "execution_count": 203,
   "id": "f7966b39",
   "metadata": {},
   "outputs": [],
   "source": [
    "#creating numpy and pandas objects from pdal pipeline\n",
    "arr = pipeline.arrays[0]\n",
    "description = arr.dtype.descr\n",
    "cols = [col for col, __ in description]\n",
    "df = pd.DataFrame({col: arr[col] for col in cols})\n",
    "df['X_0'] = df['X']\n",
    "df['Y_0'] = df['Y']\n",
    "df['Z_0'] = df['Z']\n",
    "df['X'] = df['X'] - df['X_0'].min()\n",
    "df['Y'] = df['Y'] - df['Y_0'].min()\n",
    "df['Z'] = df['Z'] - df['Z_0'].min()"
   ]
  },
  {
   "cell_type": "code",
   "execution_count": 212,
   "id": "0c272362",
   "metadata": {
    "scrolled": true
   },
   "outputs": [
    {
     "data": {
      "application/vnd.jupyter.widget-view+json": {
       "model_id": "8f2283e32085427daedfc2b348edfe99",
       "version_major": 2,
       "version_minor": 0
      },
      "text/plain": [
       "VBox(children=(Figure(camera=PerspectiveCamera(fov=45.0, position=(0.0, 0.0, 2.0), projectionMatrix=(1.0, 0.0,…"
      ]
     },
     "metadata": {},
     "output_type": "display_data"
    }
   ],
   "source": [
    "fig = p3.figure(width=500)\n",
    "fig.xlabel='Y'\n",
    "fig.ylabel='Z'\n",
    "fig.zlabel='X'\n",
    "all_points = p3.scatter(df['Y'], df['Z'], df['X'], color='red', size=.2,marker='arrow')\n",
    "p3.squarelim()\n",
    "p3.show()"
   ]
  },
  {
   "cell_type": "code",
   "execution_count": 201,
   "id": "d5e53da8",
   "metadata": {},
   "outputs": [
    {
     "data": {
      "text/html": [
       "<div>\n",
       "<style scoped>\n",
       "    .dataframe tbody tr th:only-of-type {\n",
       "        vertical-align: middle;\n",
       "    }\n",
       "\n",
       "    .dataframe tbody tr th {\n",
       "        vertical-align: top;\n",
       "    }\n",
       "\n",
       "    .dataframe thead th {\n",
       "        text-align: right;\n",
       "    }\n",
       "</style>\n",
       "<table border=\"1\" class=\"dataframe\">\n",
       "  <thead>\n",
       "    <tr style=\"text-align: right;\">\n",
       "      <th></th>\n",
       "      <th>X</th>\n",
       "      <th>Y</th>\n",
       "      <th>Z</th>\n",
       "      <th>Intensity</th>\n",
       "      <th>ReturnNumber</th>\n",
       "      <th>NumberOfReturns</th>\n",
       "      <th>ScanDirectionFlag</th>\n",
       "      <th>EdgeOfFlightLine</th>\n",
       "      <th>Classification</th>\n",
       "      <th>ScanAngleRank</th>\n",
       "      <th>...</th>\n",
       "      <th>Eigenvalue1</th>\n",
       "      <th>Eigenvalue2</th>\n",
       "      <th>NormalX</th>\n",
       "      <th>NormalY</th>\n",
       "      <th>NormalZ</th>\n",
       "      <th>Curvature</th>\n",
       "      <th>HeightAboveGround</th>\n",
       "      <th>X_0</th>\n",
       "      <th>Y_0</th>\n",
       "      <th>Z_0</th>\n",
       "    </tr>\n",
       "  </thead>\n",
       "  <tbody>\n",
       "    <tr>\n",
       "      <th>0</th>\n",
       "      <td>0.04</td>\n",
       "      <td>97.59</td>\n",
       "      <td>213.39</td>\n",
       "      <td>42335</td>\n",
       "      <td>3</td>\n",
       "      <td>3</td>\n",
       "      <td>0</td>\n",
       "      <td>0</td>\n",
       "      <td>1</td>\n",
       "      <td>-38.0</td>\n",
       "      <td>...</td>\n",
       "      <td>0.214535</td>\n",
       "      <td>1.087465</td>\n",
       "      <td>-0.574958</td>\n",
       "      <td>-0.186935</td>\n",
       "      <td>0.796542</td>\n",
       "      <td>0.005641</td>\n",
       "      <td>0.10</td>\n",
       "      <td>597783.23</td>\n",
       "      <td>5059950.17</td>\n",
       "      <td>339.26</td>\n",
       "    </tr>\n",
       "    <tr>\n",
       "      <th>1</th>\n",
       "      <td>0.19</td>\n",
       "      <td>96.84</td>\n",
       "      <td>213.24</td>\n",
       "      <td>34908</td>\n",
       "      <td>3</td>\n",
       "      <td>3</td>\n",
       "      <td>0</td>\n",
       "      <td>0</td>\n",
       "      <td>2</td>\n",
       "      <td>-38.0</td>\n",
       "      <td>...</td>\n",
       "      <td>0.209688</td>\n",
       "      <td>0.995877</td>\n",
       "      <td>-0.560994</td>\n",
       "      <td>-0.191357</td>\n",
       "      <td>0.805400</td>\n",
       "      <td>0.006073</td>\n",
       "      <td>0.00</td>\n",
       "      <td>597783.38</td>\n",
       "      <td>5059949.42</td>\n",
       "      <td>339.11</td>\n",
       "    </tr>\n",
       "    <tr>\n",
       "      <th>2</th>\n",
       "      <td>0.45</td>\n",
       "      <td>95.53</td>\n",
       "      <td>213.19</td>\n",
       "      <td>30866</td>\n",
       "      <td>3</td>\n",
       "      <td>3</td>\n",
       "      <td>0</td>\n",
       "      <td>1</td>\n",
       "      <td>1</td>\n",
       "      <td>-38.0</td>\n",
       "      <td>...</td>\n",
       "      <td>0.283765</td>\n",
       "      <td>1.318074</td>\n",
       "      <td>-0.486064</td>\n",
       "      <td>-0.207732</td>\n",
       "      <td>0.848876</td>\n",
       "      <td>0.007737</td>\n",
       "      <td>0.23</td>\n",
       "      <td>597783.64</td>\n",
       "      <td>5059948.11</td>\n",
       "      <td>339.06</td>\n",
       "    </tr>\n",
       "    <tr>\n",
       "      <th>3</th>\n",
       "      <td>0.01</td>\n",
       "      <td>97.74</td>\n",
       "      <td>213.29</td>\n",
       "      <td>46114</td>\n",
       "      <td>1</td>\n",
       "      <td>1</td>\n",
       "      <td>0</td>\n",
       "      <td>0</td>\n",
       "      <td>2</td>\n",
       "      <td>-38.0</td>\n",
       "      <td>...</td>\n",
       "      <td>0.214535</td>\n",
       "      <td>1.087465</td>\n",
       "      <td>-0.574958</td>\n",
       "      <td>-0.186935</td>\n",
       "      <td>0.796542</td>\n",
       "      <td>0.005641</td>\n",
       "      <td>0.00</td>\n",
       "      <td>597783.20</td>\n",
       "      <td>5059950.32</td>\n",
       "      <td>339.16</td>\n",
       "    </tr>\n",
       "    <tr>\n",
       "      <th>4</th>\n",
       "      <td>0.31</td>\n",
       "      <td>96.28</td>\n",
       "      <td>213.06</td>\n",
       "      <td>43821</td>\n",
       "      <td>2</td>\n",
       "      <td>2</td>\n",
       "      <td>0</td>\n",
       "      <td>0</td>\n",
       "      <td>2</td>\n",
       "      <td>-38.0</td>\n",
       "      <td>...</td>\n",
       "      <td>0.308808</td>\n",
       "      <td>0.871104</td>\n",
       "      <td>-0.538986</td>\n",
       "      <td>-0.190409</td>\n",
       "      <td>0.820511</td>\n",
       "      <td>0.006339</td>\n",
       "      <td>0.00</td>\n",
       "      <td>597783.50</td>\n",
       "      <td>5059948.86</td>\n",
       "      <td>338.93</td>\n",
       "    </tr>\n",
       "    <tr>\n",
       "      <th>...</th>\n",
       "      <td>...</td>\n",
       "      <td>...</td>\n",
       "      <td>...</td>\n",
       "      <td>...</td>\n",
       "      <td>...</td>\n",
       "      <td>...</td>\n",
       "      <td>...</td>\n",
       "      <td>...</td>\n",
       "      <td>...</td>\n",
       "      <td>...</td>\n",
       "      <td>...</td>\n",
       "      <td>...</td>\n",
       "      <td>...</td>\n",
       "      <td>...</td>\n",
       "      <td>...</td>\n",
       "      <td>...</td>\n",
       "      <td>...</td>\n",
       "      <td>...</td>\n",
       "      <td>...</td>\n",
       "      <td>...</td>\n",
       "      <td>...</td>\n",
       "    </tr>\n",
       "    <tr>\n",
       "      <th>2579449</th>\n",
       "      <td>402.34</td>\n",
       "      <td>277.34</td>\n",
       "      <td>268.50</td>\n",
       "      <td>29883</td>\n",
       "      <td>2</td>\n",
       "      <td>3</td>\n",
       "      <td>0</td>\n",
       "      <td>0</td>\n",
       "      <td>4</td>\n",
       "      <td>-37.0</td>\n",
       "      <td>...</td>\n",
       "      <td>0.861714</td>\n",
       "      <td>1.380097</td>\n",
       "      <td>0.562877</td>\n",
       "      <td>0.439974</td>\n",
       "      <td>0.699709</td>\n",
       "      <td>0.148015</td>\n",
       "      <td>17.47</td>\n",
       "      <td>598185.53</td>\n",
       "      <td>5060129.92</td>\n",
       "      <td>394.37</td>\n",
       "    </tr>\n",
       "    <tr>\n",
       "      <th>2579450</th>\n",
       "      <td>400.46</td>\n",
       "      <td>280.15</td>\n",
       "      <td>264.03</td>\n",
       "      <td>39080</td>\n",
       "      <td>3</td>\n",
       "      <td>3</td>\n",
       "      <td>0</td>\n",
       "      <td>0</td>\n",
       "      <td>1</td>\n",
       "      <td>-37.0</td>\n",
       "      <td>...</td>\n",
       "      <td>2.138185</td>\n",
       "      <td>2.949949</td>\n",
       "      <td>-0.777974</td>\n",
       "      <td>0.618078</td>\n",
       "      <td>0.112850</td>\n",
       "      <td>0.100421</td>\n",
       "      <td>13.99</td>\n",
       "      <td>598183.65</td>\n",
       "      <td>5060132.73</td>\n",
       "      <td>389.90</td>\n",
       "    </tr>\n",
       "    <tr>\n",
       "      <th>2579451</th>\n",
       "      <td>400.47</td>\n",
       "      <td>280.17</td>\n",
       "      <td>265.16</td>\n",
       "      <td>38709</td>\n",
       "      <td>3</td>\n",
       "      <td>4</td>\n",
       "      <td>0</td>\n",
       "      <td>0</td>\n",
       "      <td>4</td>\n",
       "      <td>-37.0</td>\n",
       "      <td>...</td>\n",
       "      <td>1.264667</td>\n",
       "      <td>3.434836</td>\n",
       "      <td>-0.868747</td>\n",
       "      <td>0.483919</td>\n",
       "      <td>0.105360</td>\n",
       "      <td>0.130579</td>\n",
       "      <td>15.12</td>\n",
       "      <td>598183.66</td>\n",
       "      <td>5060132.75</td>\n",
       "      <td>391.03</td>\n",
       "    </tr>\n",
       "    <tr>\n",
       "      <th>2579452</th>\n",
       "      <td>388.51</td>\n",
       "      <td>298.05</td>\n",
       "      <td>236.78</td>\n",
       "      <td>31566</td>\n",
       "      <td>4</td>\n",
       "      <td>4</td>\n",
       "      <td>0</td>\n",
       "      <td>0</td>\n",
       "      <td>2</td>\n",
       "      <td>-37.0</td>\n",
       "      <td>...</td>\n",
       "      <td>0.171169</td>\n",
       "      <td>0.224611</td>\n",
       "      <td>0.250431</td>\n",
       "      <td>0.645692</td>\n",
       "      <td>0.721364</td>\n",
       "      <td>0.003802</td>\n",
       "      <td>0.00</td>\n",
       "      <td>598171.70</td>\n",
       "      <td>5060150.63</td>\n",
       "      <td>362.65</td>\n",
       "    </tr>\n",
       "    <tr>\n",
       "      <th>2579453</th>\n",
       "      <td>401.87</td>\n",
       "      <td>278.15</td>\n",
       "      <td>269.54</td>\n",
       "      <td>41855</td>\n",
       "      <td>3</td>\n",
       "      <td>3</td>\n",
       "      <td>0</td>\n",
       "      <td>0</td>\n",
       "      <td>1</td>\n",
       "      <td>-37.0</td>\n",
       "      <td>...</td>\n",
       "      <td>1.310469</td>\n",
       "      <td>2.406959</td>\n",
       "      <td>0.035751</td>\n",
       "      <td>-0.278084</td>\n",
       "      <td>0.959891</td>\n",
       "      <td>0.212269</td>\n",
       "      <td>19.44</td>\n",
       "      <td>598185.06</td>\n",
       "      <td>5060130.73</td>\n",
       "      <td>395.41</td>\n",
       "    </tr>\n",
       "  </tbody>\n",
       "</table>\n",
       "<p>2579454 rows × 27 columns</p>\n",
       "</div>"
      ],
      "text/plain": [
       "              X       Y       Z  Intensity  ReturnNumber  NumberOfReturns  \\\n",
       "0          0.04   97.59  213.39      42335             3                3   \n",
       "1          0.19   96.84  213.24      34908             3                3   \n",
       "2          0.45   95.53  213.19      30866             3                3   \n",
       "3          0.01   97.74  213.29      46114             1                1   \n",
       "4          0.31   96.28  213.06      43821             2                2   \n",
       "...         ...     ...     ...        ...           ...              ...   \n",
       "2579449  402.34  277.34  268.50      29883             2                3   \n",
       "2579450  400.46  280.15  264.03      39080             3                3   \n",
       "2579451  400.47  280.17  265.16      38709             3                4   \n",
       "2579452  388.51  298.05  236.78      31566             4                4   \n",
       "2579453  401.87  278.15  269.54      41855             3                3   \n",
       "\n",
       "         ScanDirectionFlag  EdgeOfFlightLine  Classification  ScanAngleRank  \\\n",
       "0                        0                 0               1          -38.0   \n",
       "1                        0                 0               2          -38.0   \n",
       "2                        0                 1               1          -38.0   \n",
       "3                        0                 0               2          -38.0   \n",
       "4                        0                 0               2          -38.0   \n",
       "...                    ...               ...             ...            ...   \n",
       "2579449                  0                 0               4          -37.0   \n",
       "2579450                  0                 0               1          -37.0   \n",
       "2579451                  0                 0               4          -37.0   \n",
       "2579452                  0                 0               2          -37.0   \n",
       "2579453                  0                 0               1          -37.0   \n",
       "\n",
       "         ...  Eigenvalue1  Eigenvalue2   NormalX   NormalY   NormalZ  \\\n",
       "0        ...     0.214535     1.087465 -0.574958 -0.186935  0.796542   \n",
       "1        ...     0.209688     0.995877 -0.560994 -0.191357  0.805400   \n",
       "2        ...     0.283765     1.318074 -0.486064 -0.207732  0.848876   \n",
       "3        ...     0.214535     1.087465 -0.574958 -0.186935  0.796542   \n",
       "4        ...     0.308808     0.871104 -0.538986 -0.190409  0.820511   \n",
       "...      ...          ...          ...       ...       ...       ...   \n",
       "2579449  ...     0.861714     1.380097  0.562877  0.439974  0.699709   \n",
       "2579450  ...     2.138185     2.949949 -0.777974  0.618078  0.112850   \n",
       "2579451  ...     1.264667     3.434836 -0.868747  0.483919  0.105360   \n",
       "2579452  ...     0.171169     0.224611  0.250431  0.645692  0.721364   \n",
       "2579453  ...     1.310469     2.406959  0.035751 -0.278084  0.959891   \n",
       "\n",
       "         Curvature  HeightAboveGround        X_0         Y_0     Z_0  \n",
       "0         0.005641               0.10  597783.23  5059950.17  339.26  \n",
       "1         0.006073               0.00  597783.38  5059949.42  339.11  \n",
       "2         0.007737               0.23  597783.64  5059948.11  339.06  \n",
       "3         0.005641               0.00  597783.20  5059950.32  339.16  \n",
       "4         0.006339               0.00  597783.50  5059948.86  338.93  \n",
       "...            ...                ...        ...         ...     ...  \n",
       "2579449   0.148015              17.47  598185.53  5060129.92  394.37  \n",
       "2579450   0.100421              13.99  598183.65  5060132.73  389.90  \n",
       "2579451   0.130579              15.12  598183.66  5060132.75  391.03  \n",
       "2579452   0.003802               0.00  598171.70  5060150.63  362.65  \n",
       "2579453   0.212269              19.44  598185.06  5060130.73  395.41  \n",
       "\n",
       "[2579454 rows x 27 columns]"
      ]
     },
     "execution_count": 201,
     "metadata": {},
     "output_type": "execute_result"
    }
   ],
   "source": [
    "df"
   ]
  },
  {
   "cell_type": "code",
   "execution_count": 213,
   "id": "e6f1cb6b",
   "metadata": {},
   "outputs": [],
   "source": [
    "# Color ground in grey\n",
    "df['ground'] = df['Classification']!=1\n",
    "ground = p3.scatter(df.loc[df['ground'],'Y'].values, df.loc[df['ground'],'Z'].values, df.loc[df['ground'],'X'].values, color='red', size=.2,marker='arrow')\n",
    "non_ground = p3.scatter(df.loc[~df['ground'],'Y'].values, df.loc[~df['ground'],'Z'].values, df.loc[~df['ground'],'X'].values, color='red', size=.2)\n",
    "fig.scatters.append(ground)\n",
    "fig.scatters.append(non_ground)\n",
    "all_points.visible = False\n",
    "ground.color='lightgrey'"
   ]
  },
  {
   "cell_type": "code",
   "execution_count": 214,
   "id": "3801560c",
   "metadata": {},
   "outputs": [],
   "source": [
    "# Show ground as surface\n",
    "ground_delaunay = scipy.spatial.Delaunay(df.loc[df['ground'],['X','Y']])\n",
    "ground_surf = p3.plot_trisurf(df.loc[df['ground'],'Y'], df.loc[df['ground'],'Z'], df.loc[df['ground'],'X'], ground_delaunay.simplices, color='lightgrey')\n",
    "fig.meshes.append(ground_surf)\n",
    "ground.visible=False"
   ]
  },
  {
   "cell_type": "code",
   "execution_count": 216,
   "id": "1c8b3b28",
   "metadata": {},
   "outputs": [],
   "source": [
    "# Color points according to flatness\n",
    "df['flatness'] = df['Eigenvalue0'] \n",
    "non_ground.color=matplotlib.cm.viridis(df.loc[~df['ground'],'flatness']*4)[:,0:3]"
   ]
  },
  {
   "cell_type": "code",
   "execution_count": 217,
   "id": "3defdf20",
   "metadata": {},
   "outputs": [],
   "source": [
    "# Separate between trees and the rest\n",
    "df['tree_potential'] = (df['Classification']==1) & (df['HeightAboveGround'] >= 2) & (df['flatness'] > .05) &  (df['NumberOfReturns'] - df['ReturnNumber'] >= 1) \n",
    "df['other'] = ~df['ground'] & ~df['tree_potential']\n",
    "tree_potential = p3.scatter(df.loc[df['tree_potential'],'Y'].values, df.loc[df['tree_potential'],'Z'].values, df.loc[df['tree_potential'],'X'].values, color=matplotlib.cm.viridis(df.loc[df['tree_potential'],'flatness']*4)[:,0:3], size=.2)\n",
    "other = p3.scatter(df.loc[df['other'],'Y'].values, df.loc[df['other'],'Z'].values, df.loc[df['other'],'X'].values, color=matplotlib.cm.viridis(df.loc[df['other'],'flatness']*4)[:,0:3], size=.2)\n",
    "non_ground.visible=False\n",
    "tree_potential.color='darkgreen'\n",
    "other.color='red'"
   ]
  },
  {
   "cell_type": "code",
   "execution_count": 218,
   "id": "5cf94954",
   "metadata": {},
   "outputs": [],
   "source": [
    "#Hide non-tree\n",
    "other.visible=False"
   ]
  },
  {
   "cell_type": "code",
   "execution_count": 95,
   "id": "b0bc7ea1",
   "metadata": {},
   "outputs": [
    {
     "ename": "NameError",
     "evalue": "name 'local_max' is not defined",
     "output_type": "error",
     "traceback": [
      "\u001b[0;31m---------------------------------------------------------------------------\u001b[0m",
      "\u001b[0;31mNameError\u001b[0m                                 Traceback (most recent call last)",
      "\u001b[0;32m/tmp/ipykernel_102183/2269561515.py\u001b[0m in \u001b[0;36m<module>\u001b[0;34m\u001b[0m\n\u001b[0;32m----> 1\u001b[0;31m \u001b[0mlep\u001b[0m \u001b[0;34m=\u001b[0m \u001b[0mlocal_max\u001b[0m\u001b[0;34m(\u001b[0m\u001b[0mdf\u001b[0m\u001b[0;34m.\u001b[0m\u001b[0mloc\u001b[0m\u001b[0;34m[\u001b[0m\u001b[0mdf\u001b[0m\u001b[0;34m[\u001b[0m\u001b[0;34m'tree_potential'\u001b[0m\u001b[0;34m]\u001b[0m\u001b[0;34m,\u001b[0m\u001b[0;34m[\u001b[0m\u001b[0;34m'X'\u001b[0m\u001b[0;34m,\u001b[0m\u001b[0;34m'Y'\u001b[0m\u001b[0;34m,\u001b[0m\u001b[0;34m'Z'\u001b[0m\u001b[0;34m,\u001b[0m\u001b[0;34m'HeightAboveGround'\u001b[0m\u001b[0;34m]\u001b[0m\u001b[0;34m]\u001b[0m\u001b[0;34m,\u001b[0m \u001b[0mradius\u001b[0m\u001b[0;34m=\u001b[0m\u001b[0;36m3\u001b[0m\u001b[0;34m,\u001b[0m \u001b[0mdensity_threshold\u001b[0m\u001b[0;34m=\u001b[0m\u001b[0;36m15\u001b[0m\u001b[0;34m)\u001b[0m\u001b[0;34m\u001b[0m\u001b[0;34m\u001b[0m\u001b[0m\n\u001b[0m",
      "\u001b[0;31mNameError\u001b[0m: name 'local_max' is not defined"
     ]
    }
   ],
   "source": [
    "lep = local_max(df.loc[df['tree_potential'],['X','Y','Z','HeightAboveGround']], radius=3, density_threshold=15)"
   ]
  },
  {
   "cell_type": "code",
   "execution_count": null,
   "id": "38549d82",
   "metadata": {},
   "outputs": [],
   "source": [
    "coords=dc.last_draw['geometry']['coordinates'][0]"
   ]
  },
  {
   "cell_type": "code",
   "execution_count": null,
   "id": "11468513",
   "metadata": {},
   "outputs": [],
   "source": [
    "polygon = shapely.geometry.Polygon(coords)\n",
    "print(polygon.wkt)\n",
    "\n",
    "bounds = polygon.bounds"
   ]
  },
  {
   "cell_type": "code",
   "execution_count": null,
   "id": "03bcc62f",
   "metadata": {},
   "outputs": [],
   "source": []
  },
  {
   "cell_type": "code",
   "execution_count": null,
   "id": "463f85a0",
   "metadata": {},
   "outputs": [],
   "source": [
    "b = polygon.bounds"
   ]
  },
  {
   "cell_type": "code",
   "execution_count": null,
   "id": "5a116e74",
   "metadata": {},
   "outputs": [],
   "source": [
    "pipeline.validate()"
   ]
  },
  {
   "cell_type": "code",
   "execution_count": null,
   "id": "660f1367",
   "metadata": {},
   "outputs": [],
   "source": [
    "polygon.wkt\n"
   ]
  },
  {
   "cell_type": "code",
   "execution_count": null,
   "id": "238c527a",
   "metadata": {},
   "outputs": [],
   "source": [
    "df"
   ]
  },
  {
   "cell_type": "code",
   "execution_count": null,
   "id": "46082bd0",
   "metadata": {},
   "outputs": [],
   "source": [
    "pipeline.validate()"
   ]
  },
  {
   "cell_type": "code",
   "execution_count": null,
   "id": "f3ea2d93",
   "metadata": {},
   "outputs": [],
   "source": [
    "polygon.wkt"
   ]
  },
  {
   "cell_type": "code",
   "execution_count": null,
   "id": "21af249a",
   "metadata": {},
   "outputs": [],
   "source": [
    "b"
   ]
  },
  {
   "cell_type": "code",
   "execution_count": null,
   "id": "52851bcb",
   "metadata": {},
   "outputs": [],
   "source": [
    "cd "
   ]
  },
  {
   "cell_type": "code",
   "execution_count": null,
   "id": "96ae9ce1",
   "metadata": {},
   "outputs": [],
   "source": [
    "cd Desktop/LiDAR_oregon/JR05_2018"
   ]
  },
  {
   "cell_type": "code",
   "execution_count": null,
   "id": "88ed546f",
   "metadata": {},
   "outputs": [],
   "source": [
    "pwd"
   ]
  },
  {
   "cell_type": "code",
   "execution_count": null,
   "id": "e8da6487",
   "metadata": {},
   "outputs": [],
   "source": [
    "os.getcwd()"
   ]
  },
  {
   "cell_type": "code",
   "execution_count": null,
   "id": "f525cb71",
   "metadata": {},
   "outputs": [],
   "source": []
  },
  {
   "cell_type": "code",
   "execution_count": null,
   "id": "af8298a3",
   "metadata": {},
   "outputs": [],
   "source": []
  },
  {
   "cell_type": "code",
   "execution_count": null,
   "id": "d867bd3b",
   "metadata": {},
   "outputs": [],
   "source": []
  },
  {
   "cell_type": "code",
   "execution_count": null,
   "id": "2a6c560f",
   "metadata": {},
   "outputs": [],
   "source": []
  },
  {
   "cell_type": "code",
   "execution_count": null,
   "id": "7a177f31",
   "metadata": {},
   "outputs": [],
   "source": []
  },
  {
   "cell_type": "code",
   "execution_count": null,
   "id": "77cd536b",
   "metadata": {},
   "outputs": [],
   "source": []
  },
  {
   "cell_type": "code",
   "execution_count": null,
   "id": "8cd92aa8",
   "metadata": {},
   "outputs": [],
   "source": []
  },
  {
   "cell_type": "code",
   "execution_count": null,
   "id": "2998966c",
   "metadata": {},
   "outputs": [],
   "source": []
  },
  {
   "cell_type": "code",
   "execution_count": null,
   "id": "faae50ab",
   "metadata": {},
   "outputs": [],
   "source": []
  },
  {
   "cell_type": "code",
   "execution_count": null,
   "id": "75d75653",
   "metadata": {},
   "outputs": [],
   "source": []
  },
  {
   "cell_type": "code",
   "execution_count": null,
   "id": "459ddf15",
   "metadata": {},
   "outputs": [],
   "source": []
  },
  {
   "cell_type": "code",
   "execution_count": null,
   "id": "308096fe",
   "metadata": {},
   "outputs": [],
   "source": []
  },
  {
   "cell_type": "code",
   "execution_count": null,
   "id": "94d063bc",
   "metadata": {},
   "outputs": [],
   "source": []
  },
  {
   "cell_type": "code",
   "execution_count": null,
   "id": "313b70eb",
   "metadata": {},
   "outputs": [],
   "source": []
  },
  {
   "cell_type": "code",
   "execution_count": null,
   "id": "fa05aa27",
   "metadata": {},
   "outputs": [],
   "source": []
  },
  {
   "cell_type": "code",
   "execution_count": null,
   "id": "30c123af",
   "metadata": {},
   "outputs": [],
   "source": []
  }
 ],
 "metadata": {
  "kernelspec": {
   "display_name": "Python 3 (ipykernel)",
   "language": "python",
   "name": "python3"
  },
  "language_info": {
   "codemirror_mode": {
    "name": "ipython",
    "version": 3
   },
   "file_extension": ".py",
   "mimetype": "text/x-python",
   "name": "python",
   "nbconvert_exporter": "python",
   "pygments_lexer": "ipython3",
   "version": "3.9.7"
  }
 },
 "nbformat": 4,
 "nbformat_minor": 5
}
