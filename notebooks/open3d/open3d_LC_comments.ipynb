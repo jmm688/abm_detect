{
 "cells": [
  {
   "cell_type": "code",
   "execution_count": 1,
   "id": "0e10f3a1",
   "metadata": {},
   "outputs": [
    {
     "name": "stdout",
     "output_type": "stream",
     "text": [
      "Jupyter environment detected. Enabling Open3D WebVisualizer.\n",
      "[Open3D INFO] WebRTC GUI backend enabled.\n",
      "[Open3D INFO] WebRTCWindowSystem: HTTP handshake server disabled.\n"
     ]
    }
   ],
   "source": [
    "import pdal\n",
    "import glob\n",
    "import io\n",
    "import ipyleaflet\n",
    "import IPython.display\n",
    "import ipyvolume.pylab as p3\n",
    "import matplotlib.cm\n",
    "import matplotlib.pyplot as plt\n",
    "import numpy as np\n",
    "import pandas as pd\n",
    "import shapely.geometry\n",
    "import scipy.spatial\n",
    "import pyproj\n",
    "import open3d as o3d\n",
    "\n",
    "import os\n",
    "import requests\n",
    "import json\n",
    "import sys\n",
    "import urllib.request\n"
   ]
  },
  {
   "cell_type": "code",
   "execution_count": 2,
   "id": "38667137",
   "metadata": {},
   "outputs": [],
   "source": [
    "LC_laz = '/home/jose/Desktop/LiDAR_nmsu/SouthEastB1/points.laz'"
   ]
  },
  {
   "cell_type": "markdown",
   "id": "e544e43f",
   "metadata": {},
   "source": [
    "# Computing pointcloud + Meshes ( Do not run cells if meshes are already calculated )"
   ]
  },
  {
   "cell_type": "code",
   "execution_count": 3,
   "id": "ba5f070d",
   "metadata": {},
   "outputs": [
    {
     "data": {
      "image/svg+xml": [
       "<svg xmlns=\"http://www.w3.org/2000/svg\" xmlns:xlink=\"http://www.w3.org/1999/xlink\" width=\"100.0\" height=\"100.0\" viewBox=\"-107.575331 31.35488 2.0 2.0\" preserveAspectRatio=\"xMinYMin meet\"><g transform=\"matrix(1,0,0,-1,0,64.70976)\"><circle cx=\"-106.575331\" cy=\"32.35488\" r=\"0.06\" stroke=\"#555555\" stroke-width=\"0.02\" fill=\"#66cc99\" opacity=\"0.6\" /></g></svg>"
      ],
      "text/plain": [
       "<shapely.geometry.point.Point at 0x7fa97803d5e0>"
      ]
     },
     "execution_count": 3,
     "metadata": {},
     "output_type": "execute_result"
    }
   ],
   "source": [
    "# generating a sampling point using shapley geometry objects\n",
    "point = shapely.geometry.Point([-106.575331, 32.35488])   # these are WGS/UTM13 coordinate\n",
    "point"
   ]
  },
  {
   "cell_type": "code",
   "execution_count": 4,
   "id": "00832f19",
   "metadata": {},
   "outputs": [
    {
     "data": {
      "text/plain": [
       "['TEST.ply',\n",
       " 'isosurface_tri.ply',\n",
       " 'shape.geojson',\n",
       " 'point.geojson',\n",
       " 'shape.qmd',\n",
       " 'points.laz',\n",
       " 'points.las',\n",
       " 'for_open3d.las',\n",
       " 'isosurf.json',\n",
       " 'output.tin.tar.gz']"
      ]
     },
     "execution_count": 4,
     "metadata": {},
     "output_type": "execute_result"
    }
   ],
   "source": [
    "# Changing directory to where liDAR .las file lives in\n",
    "os.chdir('/home/jose/Desktop/LiDAR_nmsu/SouthEastB1')\n",
    "os.listdir()  # uses python library os to list all files in the current directory. Just a nice check!"
   ]
  },
  {
   "cell_type": "code",
   "execution_count": null,
   "id": "b4210a29",
   "metadata": {},
   "outputs": [],
   "source": [
    "\"\"\"\n",
    "The following cells contain json objects aka {[...stuff...]}\n",
    "Just for explanation sake the json.dumps() are just python-type strings! :)\n",
    "\n",
    "The reason we need to do this is because we use the Pointcloud Data Abstraction Library (PDAL) which is really a\n",
    "C C++ library. we simply use a python binding in order to use it!\n",
    "\n",
    "We benefit from all of the efficieny and power of C and C++ within a python or shell environment without all of the\n",
    "cryptic syntax! or insane programming skills required to code in these lower level programing languages. :)\n",
    "\n",
    "Anyways... this is why we use json scripts / objects!\n",
    "\"\"\""
   ]
  },
  {
   "cell_type": "code",
   "execution_count": 9,
   "id": "aead0fc0",
   "metadata": {},
   "outputs": [
    {
     "name": "stdout",
     "output_type": "stream",
     "text": [
      "CPU times: user 1min 7s, sys: 3.1 s, total: 1min 10s\n",
      "Wall time: 1min 9s\n",
      "Pipeline selected 95161968 points (95161968.0 pts/m2)\n"
     ]
    }
   ],
   "source": [
    "# This json script will execute pdal decompression pipeline\n",
    "decompress = {\n",
    "    \"pipeline\": [ LC_laz,\n",
    "        \n",
    "      \n",
    "                 \n",
    "        {\n",
    "            \"type\": \"writers.las\",\n",
    "            \"filename\":\"./points.las\",\n",
    "            \n",
    "        },\n",
    "        \n",
    "        \n",
    "    ]}\n",
    "pipeline = pdal.Pipeline(json.dumps(decompress))\n",
    "pipeline.validate()\n",
    "%time n_points = pipeline.execute()\n",
    "print('Pipeline selected {} points ({:.1f} pts/m2)'.format(n_points, n_points))"
   ]
  },
  {
   "cell_type": "code",
   "execution_count": 5,
   "id": "98f8e55d",
   "metadata": {},
   "outputs": [],
   "source": [
    "# now that our liDAR data is decompressed(.las = uncompressed,   .laz = compressed)\n",
    "# we can now make a variable with the path to the .las file\n",
    "LC_las = '/home/jose/Desktop/LiDAR_nmsu/SouthEastB1/points.las'\n",
    "\n"
   ]
  },
  {
   "cell_type": "code",
   "execution_count": 6,
   "id": "41858daf",
   "metadata": {},
   "outputs": [
    {
     "name": "stdout",
     "output_type": "stream",
     "text": [
      "CPU times: user 34.1 s, sys: 3.12 s, total: 37.2 s\n",
      "Wall time: 37.5 s\n",
      "Pipeline selected 1164109 points (1164109.0 pts/m2)\n"
     ]
    }
   ],
   "source": [
    "# now we select what we want ! ! !\n",
    "cropper = {\n",
    "    \"pipeline\": [ LC_las,\n",
    "        \n",
    "        # Cropping out all points that lie 400 units from point.wkt\n",
    "        {   \"type\":\"filters.crop\",\n",
    "             \"a_srs\": \"EPSG:4326\",\n",
    "             \"point\":point.wkt,\n",
    "             \"distance\": 400\n",
    "        },\n",
    "          \n",
    "                 \n",
    "        {   \"type\":\"filters.eigenvalues\",\n",
    "            \"knn\":16},\n",
    "                 # computing normal X,Y,Z components of planes generated by 16 nn. (Also calculates curvature)\n",
    "        {   \"type\":\"filters.normal\",\n",
    "            \"knn\":16},\n",
    "                 \n",
    "        {\n",
    "            \"type\": \"writers.las\",\n",
    "            \"filename\":\"for_open3d.las\",  # writing a new file with selected points!\n",
    "            \n",
    "        },\n",
    "        \n",
    "        \n",
    "    ]}\n",
    "pipeline = pdal.Pipeline(json.dumps(cropper))\n",
    "pipeline.validate()\n",
    "%time n_points = pipeline.execute()\n",
    "print('Pipeline selected {} points ({:.1f} pts/m2)'.format(n_points, n_points))"
   ]
  },
  {
   "cell_type": "code",
   "execution_count": null,
   "id": "fa2e014e",
   "metadata": {},
   "outputs": [],
   "source": [
    "\"\"\"\n",
    "Now that we have loaded the point cloud data into memory,\n",
    "we will now generate arrays to mess around with the data in a more \"familiar\" python environment\n",
    "\"\"\""
   ]
  },
  {
   "cell_type": "code",
   "execution_count": 7,
   "id": "d9655187",
   "metadata": {},
   "outputs": [],
   "source": [
    "#creating numpy and pandas objects from pdal pipeline above\n",
    "arr = pipeline.arrays[0]\n",
    "description = arr.dtype.descr\n",
    "cols = [col for col, __ in description]\n",
    "df = pd.DataFrame({col: arr[col] for col in cols})\n",
    "\n",
    "# making copies of original XYZ coordinates for manipulation down below\n",
    "df['X_0'] = df['X']\n",
    "df['Y_0'] = df['Y']\n",
    "df['Z_0'] = df['Z']\n",
    "\n",
    "# Centers data around zero instead of geographical coordinates\n",
    "df['X'] = df['X'] - df['X_0'].min()\n",
    "df['Y'] = df['Y'] - df['Y_0'].min()\n",
    "df['Z'] = df['Z'] - df['Z_0'].min()"
   ]
  },
  {
   "cell_type": "code",
   "execution_count": 2,
   "id": "06757045",
   "metadata": {},
   "outputs": [
    {
     "ename": "NameError",
     "evalue": "name 'df' is not defined",
     "output_type": "error",
     "traceback": [
      "\u001b[0;31m---------------------------------------------------------------------------\u001b[0m",
      "\u001b[0;31mNameError\u001b[0m                                 Traceback (most recent call last)",
      "\u001b[0;32m/tmp/ipykernel_1610444/3029944613.py\u001b[0m in \u001b[0;36m<module>\u001b[0;34m\u001b[0m\n\u001b[1;32m      1\u001b[0m \u001b[0;31m# we vizualize the data as a pandas dataframe\u001b[0m\u001b[0;34m\u001b[0m\u001b[0;34m\u001b[0m\u001b[0;34m\u001b[0m\u001b[0m\n\u001b[0;32m----> 2\u001b[0;31m \u001b[0mdf\u001b[0m\u001b[0;34m.\u001b[0m\u001b[0mcolumns\u001b[0m\u001b[0;31m#['']\u001b[0m\u001b[0;34m\u001b[0m\u001b[0;34m\u001b[0m\u001b[0m\n\u001b[0m",
      "\u001b[0;31mNameError\u001b[0m: name 'df' is not defined"
     ]
    }
   ],
   "source": [
    "# we vizualize the data as a pandas dataframe\n",
    "df.columns#['']\n"
   ]
  },
  {
   "cell_type": "code",
   "execution_count": null,
   "id": "21b05a46",
   "metadata": {},
   "outputs": [],
   "source": [
    "'''\n",
    "Generating a pcd object from .las data stored in pandas df object \n",
    "\n",
    "This is only necessary if we want to use any other features derrived from .las files\n",
    "\n",
    "example: df['Curvature']\n",
    "\n",
    "This is because .las and .laz writers do not directly support writing attributes other than\n",
    "X \tY \tZ \tIntensity \tReturnNumber \tNumberOfReturns \tScanDirectionFlag \tEdgeOfFlightLine \tClassification \tScanAngleRank\n",
    "(instead they write external .vrt files and these are not very straight forward...)\n",
    "\n",
    "'''\n"
   ]
  },
  {
   "cell_type": "code",
   "execution_count": 54,
   "id": "635ec5e3",
   "metadata": {},
   "outputs": [
    {
     "data": {
      "text/plain": [
       "True"
      ]
     },
     "execution_count": 54,
     "metadata": {},
     "output_type": "execute_result"
    }
   ],
   "source": [
    "# Not necessary to make PCD but nice to have the code to do so\n",
    "array = np.asarray(df[[\"X\",\"Y\",\"Z\"]])   # must 3 features! so if you would like to see other features (\"Curvature\") just make extra np arrays\n",
    "\n",
    "pcd = o3d.geometry.PointCloud() #generates o3d geometry object type PointCloud\n",
    "pcd.points = o3d.utility.Vector3dVector(array) # adding points from newly made np array\n",
    "o3d.io.write_point_cloud(\"./TEST.ply\", pcd)  # writes \"new\" point cloud data as a .ply file  (note its not a .las or .laz!!! same deal just different. Each have pros and cons!)\n"
   ]
  },
  {
   "cell_type": "code",
   "execution_count": 56,
   "id": "c0794e15",
   "metadata": {},
   "outputs": [],
   "source": [
    "pcd_load = o3d.io.read_point_cloud(\"/home/jose/Desktop/LiDAR_nmsu/SouthEastB1/TEST.ply\") # here we load newly generated .ply point cloud data into memory\n",
    "o3d.visualization.draw_geometries([pcd_load]) #Lets take a look at our new point cloud file"
   ]
  },
  {
   "cell_type": "code",
   "execution_count": 3,
   "id": "70020bb4",
   "metadata": {},
   "outputs": [
    {
     "data": {
      "text/plain": [
       "'\\nLoading in mesh... PDAL has the option to generate meshes using a pipeline. We will now load this mesh which was\\n\\n'"
      ]
     },
     "execution_count": 3,
     "metadata": {},
     "output_type": "execute_result"
    }
   ],
   "source": [
    "'''\n",
    "Loading in mesh... PDAL has the option to generate meshes using a pipeline. We will now load this mesh which was\n",
    "generated using a delaunay triangulation algorithim.\n",
    "\n",
    "We are doing this to see the differences between meshes computed using a pdal.Pipeline vs Open3d in house\n",
    "mesh computations ;) each have pros and cons!\n",
    "\n",
    "'''"
   ]
  },
  {
   "cell_type": "code",
   "execution_count": 15,
   "id": "8e276aa2",
   "metadata": {},
   "outputs": [
    {
     "name": "stdout",
     "output_type": "stream",
     "text": [
      "Reading PLY file: /home/jose/Desktop/LiDAR_nmsu/SouthEastB1/isosurface_tri.ply[=======================================>] 98%\r"
     ]
    }
   ],
   "source": [
    "mesh = o3d.io.read_triangle_mesh(\"/home/jose/Desktop/LiDAR_nmsu/SouthEastB1/isosurface_tri.ply\",print_progress=True) #loads into memory a .ply triangle mesh file\n",
    "o3d.visualization.draw_geometries([mesh]) # lets check it out!"
   ]
  },
  {
   "cell_type": "code",
   "execution_count": 16,
   "id": "d47b1f4c",
   "metadata": {},
   "outputs": [
    {
     "name": "stdout",
     "output_type": "stream",
     "text": [
      "These are the vertices!!!\n",
      "[[3.51969e+05 3.58105e+06 2.40876e+03]\n",
      " [3.51972e+05 3.58105e+06 2.40882e+03]\n",
      " [3.51972e+05 3.58105e+06 2.40836e+03]\n",
      " ...\n",
      " [3.51445e+05 3.58110e+06 2.15335e+03]\n",
      " [3.51446e+05 3.58110e+06 2.15344e+03]\n",
      " [3.51446e+05 3.58110e+06 2.15351e+03]]\n",
      "\n",
      "These are the triangle faces!!!\n",
      "[[ 539739  539690  539691]\n",
      " [ 539739  539689  539690]\n",
      " [ 539739  545991  539689]\n",
      " ...\n",
      " [1050201 1050346 1050044]\n",
      " [1050044 1050346 1049757]\n",
      " [1049757 1050346 1049310]]\n"
     ]
    }
   ],
   "source": [
    "# lets look at the data for the PDAL computed mesh.\n",
    "print('These are the vertices!!!')\n",
    "print(np.asarray(mesh.vertices))\n",
    "print()\n",
    "print('These are the triangle faces!!!')\n",
    "print(np.asarray(mesh.triangles))\n",
    "\n"
   ]
  },
  {
   "cell_type": "markdown",
   "id": "7c8cf0a2",
   "metadata": {},
   "source": [
    "*** NOTE: PDAL allows you to compute normals during pipeline for .las... ###\n",
    "\n",
    "However...\n",
    "\n",
    "Not for the commandline pipeline of a isosurface.ply file...\n",
    "So... untill you can find a way to stream line python + comandline in PDAL. This is the only way to compute normals\n",
    "of a mesh. intother words... untill you get scipy.spatial.Delaunay() to play well with open3d..."
   ]
  },
  {
   "cell_type": "code",
   "execution_count": 17,
   "id": "2f4ff0d1",
   "metadata": {},
   "outputs": [
    {
     "name": "stdout",
     "output_type": "stream",
     "text": [
      "Does mesh have normals? (exist: False).... :(\n"
     ]
    }
   ],
   "source": [
    "print(\"Does mesh have normals? (exist: \" + str(mesh.has_vertex_normals())+').... :(')\n"
   ]
  },
  {
   "cell_type": "code",
   "execution_count": 18,
   "id": "a89cdf34",
   "metadata": {},
   "outputs": [
    {
     "data": {
      "text/plain": [
       "TriangleMesh with 1164109 points and 2327726 triangles."
      ]
     },
     "execution_count": 18,
     "metadata": {},
     "output_type": "execute_result"
    }
   ],
   "source": [
    "mesh.compute_vertex_normals() # computing normals"
   ]
  },
  {
   "cell_type": "code",
   "execution_count": 19,
   "id": "4a688f87",
   "metadata": {},
   "outputs": [
    {
     "name": "stdout",
     "output_type": "stream",
     "text": [
      "How about now? (normals exist: True).... :)\n"
     ]
    }
   ],
   "source": [
    "print(\"How about now? (normals exist: \" + str(mesh.has_vertex_normals())+').... :)')"
   ]
  },
  {
   "cell_type": "code",
   "execution_count": 20,
   "id": "bf769465",
   "metadata": {},
   "outputs": [],
   "source": [
    "o3d.visualization.draw_geometries([mesh]) # now that we have performed normal computations lets check it out!"
   ]
  },
  {
   "cell_type": "code",
   "execution_count": 21,
   "id": "5e7f967e",
   "metadata": {},
   "outputs": [
    {
     "name": "stdout",
     "output_type": "stream",
     "text": [
      "Painting the mesh\n"
     ]
    }
   ],
   "source": [
    "# PAINTING STUFF!!!\n",
    "print(\"Painting the mesh\")\n",
    "mesh.paint_uniform_color([0.55, .15, 0.2])\n",
    "o3d.visualization.draw_geometries([mesh])\n"
   ]
  },
  {
   "cell_type": "code",
   "execution_count": null,
   "id": "e65bbd79",
   "metadata": {},
   "outputs": [],
   "source": [
    "'''\n",
    "Average Mesh Filtering:\n",
    "We will now take the mesh and smooth it out using averages. each number of iterations will smooth the image more\n",
    "at the expense of computational resources.\n",
    "\n",
    "'''"
   ]
  },
  {
   "cell_type": "code",
   "execution_count": 22,
   "id": "4ee4cd3c",
   "metadata": {},
   "outputs": [],
   "source": [
    "# making a copy of original mesh to mess around with it\n",
    "import copy\n",
    "mesh1 = copy.deepcopy(mesh)"
   ]
  },
  {
   "cell_type": "code",
   "execution_count": 23,
   "id": "095e63b6",
   "metadata": {},
   "outputs": [
    {
     "name": "stdout",
     "output_type": "stream",
     "text": [
      "filter with average with 1 iteration\n"
     ]
    }
   ],
   "source": [
    "# 1 iteration\n",
    "print('filter with average with 1 iteration')\n",
    "mesh_out = mesh1.filter_smooth_simple(number_of_iterations=1)\n",
    "mesh_out.compute_vertex_normals()\n",
    "o3d.visualization.draw_geometries([mesh_out])"
   ]
  },
  {
   "cell_type": "code",
   "execution_count": 63,
   "id": "f6857f41",
   "metadata": {},
   "outputs": [
    {
     "name": "stdout",
     "output_type": "stream",
     "text": [
      "filter with average with 5 iterations\n"
     ]
    }
   ],
   "source": [
    "# 5 iterations\n",
    "print('filter with average with 5 iterations')\n",
    "mesh_out = mesh1.filter_smooth_simple(number_of_iterations=5)\n",
    "mesh_out.compute_vertex_normals()\n",
    "o3d.visualization.draw_geometries([mesh_out])\n",
    "\n"
   ]
  },
  {
   "cell_type": "code",
   "execution_count": 4,
   "id": "5df91148",
   "metadata": {},
   "outputs": [
    {
     "ename": "NameError",
     "evalue": "name 'mesh_out' is not defined",
     "output_type": "error",
     "traceback": [
      "\u001b[0;31m---------------------------------------------------------------------------\u001b[0m",
      "\u001b[0;31mNameError\u001b[0m                                 Traceback (most recent call last)",
      "\u001b[0;32m/tmp/ipykernel_1610444/2573173901.py\u001b[0m in \u001b[0;36m<module>\u001b[0;34m\u001b[0m\n\u001b[1;32m      1\u001b[0m \u001b[0;31m# Now lets check it out using wireframs!\u001b[0m\u001b[0;34m\u001b[0m\u001b[0;34m\u001b[0m\u001b[0;34m\u001b[0m\u001b[0m\n\u001b[0;32m----> 2\u001b[0;31m \u001b[0mo3d\u001b[0m\u001b[0;34m.\u001b[0m\u001b[0mvisualization\u001b[0m\u001b[0;34m.\u001b[0m\u001b[0mdraw_geometries\u001b[0m\u001b[0;34m(\u001b[0m\u001b[0;34m[\u001b[0m\u001b[0mmesh_out\u001b[0m\u001b[0;34m]\u001b[0m\u001b[0;34m,\u001b[0m\u001b[0mmesh_show_wireframe\u001b[0m\u001b[0;34m=\u001b[0m\u001b[0;32mTrue\u001b[0m\u001b[0;34m)\u001b[0m\u001b[0;34m\u001b[0m\u001b[0;34m\u001b[0m\u001b[0m\n\u001b[0m",
      "\u001b[0;31mNameError\u001b[0m: name 'mesh_out' is not defined"
     ]
    }
   ],
   "source": [
    "# Now lets check it out using wireframs!!!\n",
    "o3d.visualization.draw_geometries([mesh_out],mesh_show_wireframe=True)"
   ]
  },
  {
   "cell_type": "code",
   "execution_count": null,
   "id": "5143a932",
   "metadata": {},
   "outputs": [],
   "source": [
    "\"\"\"\n",
    "Decimation: \n",
    "\n",
    "Sometimes its possible to simplify a mesh by decimating it. This might be a possible solution to long runtimes\n",
    "or if regularization is needed\n",
    "\"\"\""
   ]
  },
  {
   "cell_type": "code",
   "execution_count": 56,
   "id": "34c5a5a5",
   "metadata": {},
   "outputs": [],
   "source": [
    "mesh_smp = mesh1.simplify_quadric_decimation(target_number_of_triangles=2100000) # set number of triangles you would like\n",
    "o3d.visualization.draw_geometries([mesh_smp],mesh_show_wireframe=True)"
   ]
  },
  {
   "cell_type": "code",
   "execution_count": 58,
   "id": "1854c869",
   "metadata": {},
   "outputs": [
    {
     "name": "stdout",
     "output_type": "stream",
     "text": [
      "filter with average with 1 iterations\n"
     ]
    }
   ],
   "source": [
    "# smooth out the new surface using an average filter\n",
    "print('filter with average with 1 iterations')\n",
    "mesh_out = mesh_smp.filter_smooth_simple(number_of_iterations=5)\n",
    "mesh_smp.compute_vertex_normals()\n",
    "o3d.visualization.draw_geometries([mesh_out])"
   ]
  },
  {
   "cell_type": "code",
   "execution_count": 60,
   "id": "9d5b8027",
   "metadata": {},
   "outputs": [],
   "source": [
    "o3d.visualization.draw_geometries([mesh_out],mesh_show_wireframe=True)"
   ]
  },
  {
   "cell_type": "code",
   "execution_count": null,
   "id": "647f00fc",
   "metadata": {},
   "outputs": [],
   "source": []
  },
  {
   "cell_type": "code",
   "execution_count": null,
   "id": "c3c17ac4",
   "metadata": {},
   "outputs": [],
   "source": []
  },
  {
   "cell_type": "markdown",
   "id": "029aca8a",
   "metadata": {},
   "source": [
    "# Trying scipy delaunay (ignore!!!)"
   ]
  },
  {
   "cell_type": "code",
   "execution_count": 45,
   "id": "776f96f6",
   "metadata": {},
   "outputs": [],
   "source": [
    "df['ground'] = df['Classification']==2\n",
    "\n",
    "ground_delaunay = scipy.spatial.Delaunay(df.loc[df['ground'],['X','Y']])\n",
    "ground_surf = p3.plot_trisurf(df.loc[df['ground'],'Y'], df.loc[df['ground'],'Z'], df.loc[df['ground'],'X'], ground_delaunay.simplices, color='blue')"
   ]
  },
  {
   "cell_type": "code",
   "execution_count": 43,
   "id": "70d1a90c",
   "metadata": {},
   "outputs": [],
   "source": [
    "ma = o3d.utility.Vector3dVector(ground_delaunay.simplices)"
   ]
  },
  {
   "cell_type": "code",
   "execution_count": 32,
   "id": "fd6480d2",
   "metadata": {},
   "outputs": [
    {
     "ename": "AttributeError",
     "evalue": "'open3d.cpu.pybind.utility.Vector3dVector' object has no attribute 'compute_vertex_normals'",
     "output_type": "error",
     "traceback": [
      "\u001b[0;31m---------------------------------------------------------------------------\u001b[0m",
      "\u001b[0;31mAttributeError\u001b[0m                            Traceback (most recent call last)",
      "\u001b[0;32m/tmp/ipykernel_16710/2301683848.py\u001b[0m in \u001b[0;36m<module>\u001b[0;34m\u001b[0m\n\u001b[0;32m----> 1\u001b[0;31m \u001b[0mma\u001b[0m\u001b[0;34m.\u001b[0m\u001b[0mcompute_vertex_normals\u001b[0m\u001b[0;34m(\u001b[0m\u001b[0;34m)\u001b[0m\u001b[0;34m\u001b[0m\u001b[0;34m\u001b[0m\u001b[0m\n\u001b[0m",
      "\u001b[0;31mAttributeError\u001b[0m: 'open3d.cpu.pybind.utility.Vector3dVector' object has no attribute 'compute_vertex_normals'"
     ]
    }
   ],
   "source": [
    "ma.compute_vertex_normals()"
   ]
  },
  {
   "cell_type": "markdown",
   "id": "55520550",
   "metadata": {},
   "source": [
    "# Mesh reconstruction from .ply  Point Cloud data"
   ]
  },
  {
   "cell_type": "code",
   "execution_count": null,
   "id": "bd17574d",
   "metadata": {},
   "outputs": [],
   "source": [
    "'''\n",
    "Calculating pcd normals:\n",
    "\n",
    "We use the open3d PointCloud geometry object generated waaaaay back up (pcd_load)\n",
    "from this we calculate the normals which are needed for mesh generation\n",
    "\n",
    "'''"
   ]
  },
  {
   "cell_type": "code",
   "execution_count": 57,
   "id": "242d3976",
   "metadata": {},
   "outputs": [],
   "source": [
    "pcd_load.estimate_normals()  # calculating normals from a pcd .ply file\n",
    "o3d.visualization.draw_geometries([pcd], point_show_normal=True)"
   ]
  },
  {
   "cell_type": "code",
   "execution_count": 58,
   "id": "33b9121d",
   "metadata": {},
   "outputs": [],
   "source": []
  },
  {
   "cell_type": "code",
   "execution_count": 60,
   "id": "55bc4f36",
   "metadata": {},
   "outputs": [
    {
     "data": {
      "text/plain": [
       "array([[ 0.14765081, -0.70279083, -0.69590537],\n",
       "       [-0.44238516,  0.56666631,  0.69511485],\n",
       "       [-0.56208614,  0.37093801,  0.73923215],\n",
       "       ...,\n",
       "       [ 0.33482894,  0.06926929, -0.9397294 ],\n",
       "       [-0.33322049, -0.09464182,  0.9380869 ],\n",
       "       [ 0.35321759,  0.10795704, -0.92929146]])"
      ]
     },
     "execution_count": 60,
     "metadata": {},
     "output_type": "execute_result"
    }
   ],
   "source": [
    "# We visualize the normals. should be a 3 dimensional array corresponding to normals in X,Y,Z directions\n",
    "np.asarray(pcd_load.normals)"
   ]
  },
  {
   "cell_type": "code",
   "execution_count": 62,
   "id": "a9a2bf41",
   "metadata": {},
   "outputs": [],
   "source": [
    "# orientating normals from tangent plane of surface at 100 NN\n",
    "pcd_load.orient_normals_consistent_tangent_plane(100)  # change this to 16 when you finish and compare!\n",
    "\n",
    "np.asarray(pcd_load.normals) # looking at newly adjusted normals"
   ]
  },
  {
   "cell_type": "code",
   "execution_count": null,
   "id": "00f5676b",
   "metadata": {},
   "outputs": [],
   "source": []
  },
  {
   "cell_type": "code",
   "execution_count": 5,
   "id": "e5544cf2",
   "metadata": {},
   "outputs": [
    {
     "data": {
      "text/plain": [
       "'\\nNow that we have computed the normals, we can now make mesh reconstructions of the surface\\nWe will look at different reconstruction algorithims\\n\\n1)\\n'"
      ]
     },
     "execution_count": 5,
     "metadata": {},
     "output_type": "execute_result"
    }
   ],
   "source": [
    "'''\n",
    "Now that we have computed the normals, we can now make mesh reconstructions of the surface\n",
    "We will look at different reconstruction algorithims\n",
    "\n",
    "1) Ball-Pivoting Algorithm for Surface Reconstruction:\n",
    "    Uses sampling spheres of set radii to generate the vertices needed for a surface. Essentially, at locations where the sphere\n",
    "    touches 3 points (LiDAR points), a vertex is computed. if sphere radius is too large, detail will be missed\n",
    "    If sphere radius is too small, patches will exist (ball falls straight through).\n",
    "\n",
    "2) Poisson surface reconstruction:\n",
    "    This algorithm solves a regularized optimization problem to get a smooth like surface\n",
    "    As a result, smooth surfaces can be obtained from sparse patches in the data by using original liDAR datapoints\n",
    "    as vertices. Therefore a triangle mesh can be generated without modifying the data.\n",
    "    \n",
    "    \n",
    "    NOTE:\n",
    "    All reconstructions are triangle meshes!!!\n",
    "    \n",
    "    \n",
    "'''"
   ]
  },
  {
   "cell_type": "code",
   "execution_count": 79,
   "id": "fa89b6ca",
   "metadata": {},
   "outputs": [],
   "source": [
    "radii = [0.2, 0.5, 1, 2,3,4,5,6, 8, 10,15,20,30] # a list of sampling radii\n",
    "rec_mesh = o3d.geometry.TriangleMesh.create_from_point_cloud_ball_pivoting(pcd_load, o3d.utility.DoubleVector(radii))"
   ]
  },
  {
   "cell_type": "code",
   "execution_count": 82,
   "id": "23d03fd4",
   "metadata": {},
   "outputs": [],
   "source": [
    "# Result with wire mesh\n",
    "o3d.visualization.draw_geometries([rec_mesh],mesh_show_wireframe=True)"
   ]
  },
  {
   "cell_type": "code",
   "execution_count": 85,
   "id": "db8c49ec",
   "metadata": {},
   "outputs": [],
   "source": [
    "# Painting mesh\n",
    "rec_mesh.paint_uniform_color([0.55, .15, 0.2])\n",
    "o3d.visualization.draw_geometries([rec_mesh],mesh_show_wireframe=True)\n"
   ]
  },
  {
   "cell_type": "code",
   "execution_count": null,
   "id": "d3f6486f",
   "metadata": {},
   "outputs": [],
   "source": []
  },
  {
   "cell_type": "code",
   "execution_count": 89,
   "id": "25e84719",
   "metadata": {},
   "outputs": [
    {
     "data": {
      "text/plain": [
       "True"
      ]
     },
     "execution_count": 89,
     "metadata": {},
     "output_type": "execute_result"
    }
   ],
   "source": [
    "# writing mesh as a .ply file\n",
    "o3d.io.write_triangle_mesh('./radii_mesh.ply',rec_mesh)"
   ]
  },
  {
   "cell_type": "markdown",
   "id": "959325d6",
   "metadata": {},
   "source": [
    "# Poisson rec"
   ]
  },
  {
   "cell_type": "code",
   "execution_count": 94,
   "id": "00ef0724",
   "metadata": {},
   "outputs": [],
   "source": [
    "# generating both mesh and densities variable\n",
    "mesh_p, densities = o3d.geometry.TriangleMesh.create_from_point_cloud_poisson(pcd_load, depth=16) # depth is a level of detail parameter (octatree depth used for reconstruction)\n"
   ]
  },
  {
   "cell_type": "code",
   "execution_count": 101,
   "id": "071eda5e",
   "metadata": {},
   "outputs": [],
   "source": [
    "# with wireframe\n",
    "o3d.visualization.draw_geometries([mesh_p],mesh_show_wireframe=True) # set to False if you dont want to see wireframe"
   ]
  },
  {
   "cell_type": "code",
   "execution_count": 96,
   "id": "ecbc1e2b",
   "metadata": {},
   "outputs": [
    {
     "data": {
      "text/plain": [
       "TriangleMesh with 4226083 points and 8448765 triangles."
      ]
     },
     "execution_count": 96,
     "metadata": {},
     "output_type": "execute_result"
    }
   ],
   "source": [
    "# painting\n",
    "mesh_p.paint_uniform_color([0.55, .15, 0.2])"
   ]
  },
  {
   "cell_type": "code",
   "execution_count": 104,
   "id": "d987e3a2",
   "metadata": {},
   "outputs": [
    {
     "name": "stdout",
     "output_type": "stream",
     "text": [
      "visualize densities\n"
     ]
    }
   ],
   "source": [
    "print('visualize densities')\n",
    "\n",
    "densities = np.asarray(densities)\n",
    "density_colors = plt.get_cmap('plasma')((densities - densities.min()) / (densities.max() - densities.min()))\n",
    "density_colors = density_colors[:, :3]\n",
    "density_mesh = o3d.geometry.TriangleMesh()\n",
    "density_mesh.vertices = mesh.vertices\n",
    "density_mesh.triangles = mesh.triangles\n",
    "density_mesh.triangle_normals = mesh.triangle_normals\n",
    "density_mesh.vertex_colors = o3d.utility.Vector3dVector(density_colors)\n",
    "o3d.visualization.draw_geometries([density_mesh])"
   ]
  },
  {
   "cell_type": "code",
   "execution_count": null,
   "id": "bcf09a4c",
   "metadata": {},
   "outputs": [],
   "source": []
  },
  {
   "cell_type": "code",
   "execution_count": null,
   "id": "f86be8f2",
   "metadata": {},
   "outputs": [],
   "source": []
  },
  {
   "cell_type": "code",
   "execution_count": 115,
   "id": "e7491117",
   "metadata": {},
   "outputs": [
    {
     "data": {
      "text/plain": [
       "True"
      ]
     },
     "execution_count": 115,
     "metadata": {},
     "output_type": "execute_result"
    }
   ],
   "source": [
    "# writing mesh file as a .ply file\n",
    "o3d.io.write_triangle_mesh('./poisson_mesh.ply',mesh_p)"
   ]
  },
  {
   "cell_type": "code",
   "execution_count": null,
   "id": "df7a8aeb",
   "metadata": {},
   "outputs": [],
   "source": []
  },
  {
   "cell_type": "code",
   "execution_count": null,
   "id": "3abfc42d",
   "metadata": {},
   "outputs": [],
   "source": []
  },
  {
   "cell_type": "code",
   "execution_count": null,
   "id": "65e2e03f",
   "metadata": {},
   "outputs": [],
   "source": []
  },
  {
   "cell_type": "code",
   "execution_count": null,
   "id": "a119cd18",
   "metadata": {},
   "outputs": [],
   "source": []
  },
  {
   "cell_type": "code",
   "execution_count": null,
   "id": "c17cd941",
   "metadata": {},
   "outputs": [],
   "source": []
  },
  {
   "cell_type": "code",
   "execution_count": null,
   "id": "b7c9f7c5",
   "metadata": {},
   "outputs": [],
   "source": []
  },
  {
   "cell_type": "code",
   "execution_count": null,
   "id": "bdc42bf8",
   "metadata": {},
   "outputs": [],
   "source": []
  },
  {
   "cell_type": "code",
   "execution_count": null,
   "id": "e5da2b07",
   "metadata": {},
   "outputs": [],
   "source": []
  },
  {
   "cell_type": "code",
   "execution_count": null,
   "id": "5b39e4c5",
   "metadata": {},
   "outputs": [],
   "source": []
  },
  {
   "cell_type": "code",
   "execution_count": null,
   "id": "69fcce11",
   "metadata": {},
   "outputs": [],
   "source": []
  },
  {
   "cell_type": "code",
   "execution_count": 124,
   "id": "289120cd",
   "metadata": {},
   "outputs": [
    {
     "name": "stdout",
     "output_type": "stream",
     "text": [
      "\u001b[1;33m[Open3D WARNING] Write geometry::PointCloud failed: unknown file extension  for file ./LC_compress.\u001b[0;m\n"
     ]
    },
    {
     "data": {
      "text/plain": [
       "False"
      ]
     },
     "execution_count": 124,
     "metadata": {},
     "output_type": "execute_result"
    }
   ],
   "source": [
    "# FIXME: needs editing!!! \n",
    "#o3d.io.write_point_cloud('./LC_compress', pcd, write_ascii=False, compressed=True, print_progress=False)"
   ]
  }
 ],
 "metadata": {
  "kernelspec": {
   "display_name": "Python 3 (ipykernel)",
   "language": "python",
   "name": "python3"
  },
  "language_info": {
   "codemirror_mode": {
    "name": "ipython",
    "version": 3
   },
   "file_extension": ".py",
   "mimetype": "text/x-python",
   "name": "python",
   "nbconvert_exporter": "python",
   "pygments_lexer": "ipython3",
   "version": "3.8.12"
  }
 },
 "nbformat": 4,
 "nbformat_minor": 5
}
