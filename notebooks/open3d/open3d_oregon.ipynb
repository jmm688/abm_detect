{
 "cells": [
  {
   "cell_type": "markdown",
   "id": "8d300f9a",
   "metadata": {},
   "source": [
    "# Generating PCD and meshes using PDAL and Open3D"
   ]
  },
  {
   "cell_type": "code",
   "execution_count": null,
   "id": "1089f041",
   "metadata": {},
   "outputs": [],
   "source": [
    "\"\"\"\n",
    "An unusual workflow... Trying to stream line this.\n",
    "\n",
    "Step 1: load in .las file and write new .las file with only ground points for bare earth mesh (only classification==2)\n",
    "\n",
    "Step 2: from comandline execute isosurf.json to generate a mesh (***NOTE: Work on getting this into a python env***)\n",
    "\n",
    "\n",
    "\"\"\""
   ]
  },
  {
   "cell_type": "code",
   "execution_count": 14,
   "id": "fffc5d8d",
   "metadata": {},
   "outputs": [
    {
     "name": "stdout",
     "output_type": "stream",
     "text": [
      "Jupyter environment detected. Enabling Open3D WebVisualizer.\n",
      "[Open3D INFO] WebRTC GUI backend enabled.\n",
      "[Open3D INFO] WebRTCWindowSystem: HTTP handshake server disabled.\n"
     ]
    }
   ],
   "source": [
    "import pdal\n",
    "import glob\n",
    "import io\n",
    "import ipyleaflet\n",
    "import IPython.display\n",
    "import ipyvolume.pylab as p3\n",
    "import matplotlib.cm\n",
    "import matplotlib.pyplot as plt\n",
    "import numpy as np\n",
    "import pandas as pd\n",
    "import shapely.geometry\n",
    "import scipy.spatial\n",
    "import pyproj\n",
    "import open3d as o3d\n",
    "\n",
    "import os\n",
    "import requests\n",
    "import json\n",
    "import sys\n",
    "import urllib.request\n"
   ]
  },
  {
   "cell_type": "code",
   "execution_count": 153,
   "id": "86f6e280",
   "metadata": {},
   "outputs": [],
   "source": [
    "jr_las = '/home/jose/Desktop/LiDAR_oregon/JR05_2018/points.las'\n",
    "LC_las = '/home/jose/Desktop/LiDAR_nmsu/SouthEastB1/points.laz'"
   ]
  },
  {
   "cell_type": "code",
   "execution_count": 150,
   "id": "c2eec609",
   "metadata": {},
   "outputs": [
    {
     "data": {
      "application/vnd.jupyter.widget-view+json": {
       "model_id": "c4b67543260b419e9c0b0a9165dace75",
       "version_major": 2,
       "version_minor": 0
      },
      "text/plain": [
       "Map(center=[45.688698, -121.760025], controls=(ZoomControl(options=['position', 'zoom_in_text', 'zoom_in_title…"
      ]
     },
     "metadata": {},
     "output_type": "display_data"
    }
   ],
   "source": [
    "m = ipyleaflet.Map(center=(45.688698,-121.760025), zoom=13)\n",
    "m"
   ]
  },
  {
   "cell_type": "code",
   "execution_count": 160,
   "id": "a5c5ab32",
   "metadata": {},
   "outputs": [],
   "source": [
    "point = shapely.geometry.Point([-121.744288317259716, 45.685326471026336])\n",
    "#point = shapely.geometry.Point([350338.512888511759229, 3580081.94974302360788])"
   ]
  },
  {
   "cell_type": "code",
   "execution_count": 158,
   "id": "d5b50fd0",
   "metadata": {},
   "outputs": [
    {
     "data": {
      "text/plain": [
       "'/home/jose/Github/my_projs/abm_detect/notebooks'"
      ]
     },
     "execution_count": 158,
     "metadata": {},
     "output_type": "execute_result"
    }
   ],
   "source": [
    "os.getcwd()"
   ]
  },
  {
   "cell_type": "code",
   "execution_count": 161,
   "id": "b99343d7",
   "metadata": {},
   "outputs": [
    {
     "name": "stdout",
     "output_type": "stream",
     "text": [
      "CPU times: user 1min 4s, sys: 216 ms, total: 1min 4s\n",
      "Wall time: 1min 3s\n",
      "Pipeline selected 2571039 points (2571039.0 pts/m2)\n"
     ]
    }
   ],
   "source": [
    "cropper = {\n",
    "    \"pipeline\": [ jr_las,\n",
    "        \n",
    "        # Cropping out all points that lie 200 units from point.wkt\n",
    "        {   \"type\":\"filters.crop\",\n",
    "             \"a_srs\": \"EPSG:4326\",\n",
    "             \"point\":point.wkt,\n",
    "             \"distance\": 4000\n",
    "        },\n",
    "           \n",
    "                 # using 12 nn points to determine extremes (aka atmosphere scatter , telephone wires , etc.)\n",
    "                 # and assigning them class = 7. This will be excluded further down pipeline.\n",
    "        {\n",
    "            \"type\":\"filters.outlier\",\n",
    "            \"method\":\"statistical\",\n",
    "            \"mean_k\":12,\n",
    "            \"multiplier\":3.2\n",
    "        },\n",
    "               \n",
    "                 # only commiting classifications 0-6 to memory (avoid class = 7 noise)\n",
    "        {\n",
    "            \"type\": \"filters.range\",\n",
    "            \"limits\":\"Classification[1:2]\",\n",
    "        },\n",
    "\n",
    "                 # using 26 nn points to determine best classification for class = 1(unclassified)\n",
    "        {\n",
    "            \"type\": \"filters.neighborclassifier\",\n",
    "            \"domain\":\"Classification[1:1]\",\n",
    "            \"k\": 26\n",
    "        },\n",
    "        \n",
    "                 \n",
    "        {\n",
    "            \"type\": \"filters.range\",\n",
    "            \"limits\":\"Classification[2:2]\",\n",
    "        },\n",
    "                 \n",
    "        {\n",
    "            \"type\": \"writers.las\",\n",
    "            \"filename\":\"for_open3d.las\",\n",
    "            \n",
    "        },\n",
    "        \n",
    "        \n",
    "    ]}\n",
    "pipeline = pdal.Pipeline(json.dumps(cropper))\n",
    "pipeline.validate()\n",
    "%time n_points = pipeline.execute()\n",
    "print('Pipeline selected {} points ({:.1f} pts/m2)'.format(n_points, n_points))"
   ]
  },
  {
   "cell_type": "code",
   "execution_count": 56,
   "id": "9fe6697f",
   "metadata": {},
   "outputs": [],
   "source": [
    "#creating numpy and pandas objects from pdal pipeline\n",
    "arr = pipeline.arrays[0]\n",
    "description = arr.dtype.descr\n",
    "cols = [col for col, __ in description]\n",
    "df = pd.DataFrame({col: arr[col] for col in cols})\n",
    "df['X_0'] = df['X']\n",
    "df['Y_0'] = df['Y']\n",
    "df['Z_0'] = df['Z']\n",
    "df['X'] = df['X'] - df['X_0'].min()\n",
    "df['Y'] = df['Y'] - df['Y_0'].min()\n",
    "df['Z'] = df['Z'] - df['Z_0'].min()"
   ]
  },
  {
   "cell_type": "code",
   "execution_count": 57,
   "id": "e63e91eb",
   "metadata": {},
   "outputs": [
    {
     "data": {
      "text/html": [
       "<div>\n",
       "<style scoped>\n",
       "    .dataframe tbody tr th:only-of-type {\n",
       "        vertical-align: middle;\n",
       "    }\n",
       "\n",
       "    .dataframe tbody tr th {\n",
       "        vertical-align: top;\n",
       "    }\n",
       "\n",
       "    .dataframe thead th {\n",
       "        text-align: right;\n",
       "    }\n",
       "</style>\n",
       "<table border=\"1\" class=\"dataframe\">\n",
       "  <thead>\n",
       "    <tr style=\"text-align: right;\">\n",
       "      <th></th>\n",
       "      <th>X</th>\n",
       "      <th>Y</th>\n",
       "      <th>Z</th>\n",
       "      <th>Intensity</th>\n",
       "      <th>ReturnNumber</th>\n",
       "      <th>NumberOfReturns</th>\n",
       "      <th>ScanDirectionFlag</th>\n",
       "      <th>EdgeOfFlightLine</th>\n",
       "      <th>Classification</th>\n",
       "      <th>ScanAngleRank</th>\n",
       "      <th>UserData</th>\n",
       "      <th>PointSourceId</th>\n",
       "      <th>GpsTime</th>\n",
       "      <th>Red</th>\n",
       "      <th>Green</th>\n",
       "      <th>Blue</th>\n",
       "      <th>X_0</th>\n",
       "      <th>Y_0</th>\n",
       "      <th>Z_0</th>\n",
       "    </tr>\n",
       "  </thead>\n",
       "  <tbody>\n",
       "    <tr>\n",
       "      <th>0</th>\n",
       "      <td>0.04</td>\n",
       "      <td>97.59</td>\n",
       "      <td>314.81</td>\n",
       "      <td>42335</td>\n",
       "      <td>3</td>\n",
       "      <td>3</td>\n",
       "      <td>0</td>\n",
       "      <td>0</td>\n",
       "      <td>2</td>\n",
       "      <td>-38.0</td>\n",
       "      <td>0</td>\n",
       "      <td>10</td>\n",
       "      <td>2.094057e+08</td>\n",
       "      <td>0</td>\n",
       "      <td>0</td>\n",
       "      <td>0</td>\n",
       "      <td>597783.23</td>\n",
       "      <td>5059950.17</td>\n",
       "      <td>339.26</td>\n",
       "    </tr>\n",
       "    <tr>\n",
       "      <th>1</th>\n",
       "      <td>0.19</td>\n",
       "      <td>96.84</td>\n",
       "      <td>314.66</td>\n",
       "      <td>34908</td>\n",
       "      <td>3</td>\n",
       "      <td>3</td>\n",
       "      <td>0</td>\n",
       "      <td>0</td>\n",
       "      <td>2</td>\n",
       "      <td>-38.0</td>\n",
       "      <td>0</td>\n",
       "      <td>10</td>\n",
       "      <td>2.094057e+08</td>\n",
       "      <td>0</td>\n",
       "      <td>0</td>\n",
       "      <td>0</td>\n",
       "      <td>597783.38</td>\n",
       "      <td>5059949.42</td>\n",
       "      <td>339.11</td>\n",
       "    </tr>\n",
       "    <tr>\n",
       "      <th>2</th>\n",
       "      <td>0.45</td>\n",
       "      <td>95.53</td>\n",
       "      <td>314.61</td>\n",
       "      <td>30866</td>\n",
       "      <td>3</td>\n",
       "      <td>3</td>\n",
       "      <td>0</td>\n",
       "      <td>1</td>\n",
       "      <td>2</td>\n",
       "      <td>-38.0</td>\n",
       "      <td>0</td>\n",
       "      <td>10</td>\n",
       "      <td>2.094057e+08</td>\n",
       "      <td>0</td>\n",
       "      <td>0</td>\n",
       "      <td>0</td>\n",
       "      <td>597783.64</td>\n",
       "      <td>5059948.11</td>\n",
       "      <td>339.06</td>\n",
       "    </tr>\n",
       "    <tr>\n",
       "      <th>3</th>\n",
       "      <td>0.01</td>\n",
       "      <td>97.74</td>\n",
       "      <td>314.71</td>\n",
       "      <td>46114</td>\n",
       "      <td>1</td>\n",
       "      <td>1</td>\n",
       "      <td>0</td>\n",
       "      <td>0</td>\n",
       "      <td>2</td>\n",
       "      <td>-38.0</td>\n",
       "      <td>0</td>\n",
       "      <td>10</td>\n",
       "      <td>2.094057e+08</td>\n",
       "      <td>0</td>\n",
       "      <td>0</td>\n",
       "      <td>0</td>\n",
       "      <td>597783.20</td>\n",
       "      <td>5059950.32</td>\n",
       "      <td>339.16</td>\n",
       "    </tr>\n",
       "    <tr>\n",
       "      <th>4</th>\n",
       "      <td>0.31</td>\n",
       "      <td>96.28</td>\n",
       "      <td>314.48</td>\n",
       "      <td>43821</td>\n",
       "      <td>2</td>\n",
       "      <td>2</td>\n",
       "      <td>0</td>\n",
       "      <td>0</td>\n",
       "      <td>2</td>\n",
       "      <td>-38.0</td>\n",
       "      <td>0</td>\n",
       "      <td>10</td>\n",
       "      <td>2.094057e+08</td>\n",
       "      <td>0</td>\n",
       "      <td>0</td>\n",
       "      <td>0</td>\n",
       "      <td>597783.50</td>\n",
       "      <td>5059948.86</td>\n",
       "      <td>338.93</td>\n",
       "    </tr>\n",
       "    <tr>\n",
       "      <th>...</th>\n",
       "      <td>...</td>\n",
       "      <td>...</td>\n",
       "      <td>...</td>\n",
       "      <td>...</td>\n",
       "      <td>...</td>\n",
       "      <td>...</td>\n",
       "      <td>...</td>\n",
       "      <td>...</td>\n",
       "      <td>...</td>\n",
       "      <td>...</td>\n",
       "      <td>...</td>\n",
       "      <td>...</td>\n",
       "      <td>...</td>\n",
       "      <td>...</td>\n",
       "      <td>...</td>\n",
       "      <td>...</td>\n",
       "      <td>...</td>\n",
       "      <td>...</td>\n",
       "      <td>...</td>\n",
       "    </tr>\n",
       "    <tr>\n",
       "      <th>2571034</th>\n",
       "      <td>575.66</td>\n",
       "      <td>542.19</td>\n",
       "      <td>133.17</td>\n",
       "      <td>46573</td>\n",
       "      <td>1</td>\n",
       "      <td>1</td>\n",
       "      <td>0</td>\n",
       "      <td>0</td>\n",
       "      <td>2</td>\n",
       "      <td>-37.0</td>\n",
       "      <td>0</td>\n",
       "      <td>13</td>\n",
       "      <td>2.094214e+08</td>\n",
       "      <td>0</td>\n",
       "      <td>0</td>\n",
       "      <td>0</td>\n",
       "      <td>598358.85</td>\n",
       "      <td>5060394.77</td>\n",
       "      <td>157.62</td>\n",
       "    </tr>\n",
       "    <tr>\n",
       "      <th>2571035</th>\n",
       "      <td>574.86</td>\n",
       "      <td>543.58</td>\n",
       "      <td>132.57</td>\n",
       "      <td>47032</td>\n",
       "      <td>1</td>\n",
       "      <td>1</td>\n",
       "      <td>0</td>\n",
       "      <td>0</td>\n",
       "      <td>2</td>\n",
       "      <td>-37.0</td>\n",
       "      <td>0</td>\n",
       "      <td>13</td>\n",
       "      <td>2.094214e+08</td>\n",
       "      <td>0</td>\n",
       "      <td>0</td>\n",
       "      <td>0</td>\n",
       "      <td>598358.05</td>\n",
       "      <td>5060396.16</td>\n",
       "      <td>157.02</td>\n",
       "    </tr>\n",
       "    <tr>\n",
       "      <th>2571036</th>\n",
       "      <td>574.09</td>\n",
       "      <td>544.92</td>\n",
       "      <td>132.01</td>\n",
       "      <td>48474</td>\n",
       "      <td>1</td>\n",
       "      <td>1</td>\n",
       "      <td>0</td>\n",
       "      <td>0</td>\n",
       "      <td>2</td>\n",
       "      <td>-37.0</td>\n",
       "      <td>0</td>\n",
       "      <td>13</td>\n",
       "      <td>2.094214e+08</td>\n",
       "      <td>0</td>\n",
       "      <td>0</td>\n",
       "      <td>0</td>\n",
       "      <td>598357.28</td>\n",
       "      <td>5060397.50</td>\n",
       "      <td>156.46</td>\n",
       "    </tr>\n",
       "    <tr>\n",
       "      <th>2571037</th>\n",
       "      <td>573.07</td>\n",
       "      <td>546.72</td>\n",
       "      <td>130.73</td>\n",
       "      <td>46879</td>\n",
       "      <td>1</td>\n",
       "      <td>1</td>\n",
       "      <td>0</td>\n",
       "      <td>0</td>\n",
       "      <td>2</td>\n",
       "      <td>-37.0</td>\n",
       "      <td>0</td>\n",
       "      <td>13</td>\n",
       "      <td>2.094214e+08</td>\n",
       "      <td>0</td>\n",
       "      <td>0</td>\n",
       "      <td>0</td>\n",
       "      <td>598356.26</td>\n",
       "      <td>5060399.30</td>\n",
       "      <td>155.18</td>\n",
       "    </tr>\n",
       "    <tr>\n",
       "      <th>2571038</th>\n",
       "      <td>572.06</td>\n",
       "      <td>548.49</td>\n",
       "      <td>129.59</td>\n",
       "      <td>48168</td>\n",
       "      <td>1</td>\n",
       "      <td>1</td>\n",
       "      <td>0</td>\n",
       "      <td>0</td>\n",
       "      <td>2</td>\n",
       "      <td>-37.0</td>\n",
       "      <td>0</td>\n",
       "      <td>13</td>\n",
       "      <td>2.094214e+08</td>\n",
       "      <td>0</td>\n",
       "      <td>0</td>\n",
       "      <td>0</td>\n",
       "      <td>598355.25</td>\n",
       "      <td>5060401.07</td>\n",
       "      <td>154.04</td>\n",
       "    </tr>\n",
       "  </tbody>\n",
       "</table>\n",
       "<p>2571039 rows × 19 columns</p>\n",
       "</div>"
      ],
      "text/plain": [
       "              X       Y       Z  Intensity  ReturnNumber  NumberOfReturns  \\\n",
       "0          0.04   97.59  314.81      42335             3                3   \n",
       "1          0.19   96.84  314.66      34908             3                3   \n",
       "2          0.45   95.53  314.61      30866             3                3   \n",
       "3          0.01   97.74  314.71      46114             1                1   \n",
       "4          0.31   96.28  314.48      43821             2                2   \n",
       "...         ...     ...     ...        ...           ...              ...   \n",
       "2571034  575.66  542.19  133.17      46573             1                1   \n",
       "2571035  574.86  543.58  132.57      47032             1                1   \n",
       "2571036  574.09  544.92  132.01      48474             1                1   \n",
       "2571037  573.07  546.72  130.73      46879             1                1   \n",
       "2571038  572.06  548.49  129.59      48168             1                1   \n",
       "\n",
       "         ScanDirectionFlag  EdgeOfFlightLine  Classification  ScanAngleRank  \\\n",
       "0                        0                 0               2          -38.0   \n",
       "1                        0                 0               2          -38.0   \n",
       "2                        0                 1               2          -38.0   \n",
       "3                        0                 0               2          -38.0   \n",
       "4                        0                 0               2          -38.0   \n",
       "...                    ...               ...             ...            ...   \n",
       "2571034                  0                 0               2          -37.0   \n",
       "2571035                  0                 0               2          -37.0   \n",
       "2571036                  0                 0               2          -37.0   \n",
       "2571037                  0                 0               2          -37.0   \n",
       "2571038                  0                 0               2          -37.0   \n",
       "\n",
       "         UserData  PointSourceId       GpsTime  Red  Green  Blue        X_0  \\\n",
       "0               0             10  2.094057e+08    0      0     0  597783.23   \n",
       "1               0             10  2.094057e+08    0      0     0  597783.38   \n",
       "2               0             10  2.094057e+08    0      0     0  597783.64   \n",
       "3               0             10  2.094057e+08    0      0     0  597783.20   \n",
       "4               0             10  2.094057e+08    0      0     0  597783.50   \n",
       "...           ...            ...           ...  ...    ...   ...        ...   \n",
       "2571034         0             13  2.094214e+08    0      0     0  598358.85   \n",
       "2571035         0             13  2.094214e+08    0      0     0  598358.05   \n",
       "2571036         0             13  2.094214e+08    0      0     0  598357.28   \n",
       "2571037         0             13  2.094214e+08    0      0     0  598356.26   \n",
       "2571038         0             13  2.094214e+08    0      0     0  598355.25   \n",
       "\n",
       "                Y_0     Z_0  \n",
       "0        5059950.17  339.26  \n",
       "1        5059949.42  339.11  \n",
       "2        5059948.11  339.06  \n",
       "3        5059950.32  339.16  \n",
       "4        5059948.86  338.93  \n",
       "...             ...     ...  \n",
       "2571034  5060394.77  157.62  \n",
       "2571035  5060396.16  157.02  \n",
       "2571036  5060397.50  156.46  \n",
       "2571037  5060399.30  155.18  \n",
       "2571038  5060401.07  154.04  \n",
       "\n",
       "[2571039 rows x 19 columns]"
      ]
     },
     "execution_count": 57,
     "metadata": {},
     "output_type": "execute_result"
    }
   ],
   "source": [
    "df#['']"
   ]
  },
  {
   "cell_type": "markdown",
   "id": "3e4ff8c8",
   "metadata": {},
   "source": [
    "# Generating a PCD from XYZ .las data "
   ]
  },
  {
   "cell_type": "code",
   "execution_count": 58,
   "id": "597b1253",
   "metadata": {},
   "outputs": [
    {
     "data": {
      "text/plain": [
       "True"
      ]
     },
     "execution_count": 58,
     "metadata": {},
     "output_type": "execute_result"
    }
   ],
   "source": [
    "# Not necessary to make PCD but nice to have the code to do so\n",
    "array = np.asarray(df[[\"X\",\"Y\",\"Z\"]])\n",
    "\n",
    "pcd = o3d.geometry.PointCloud()\n",
    "pcd.points = o3d.utility.Vector3dVector(array)\n",
    "o3d.io.write_point_cloud(\"./TEST.ply\", pcd)"
   ]
  },
  {
   "cell_type": "code",
   "execution_count": 59,
   "id": "d7b80eaf",
   "metadata": {},
   "outputs": [],
   "source": [
    "pcd_load = o3d.io.read_point_cloud(\"/home/jose/Github/my_projs/abm_detect/notebooks/TEST.ply\")\n",
    "o3d.visualization.draw_geometries([pcd_load])"
   ]
  },
  {
   "cell_type": "markdown",
   "id": "12b91669",
   "metadata": {},
   "source": [
    "# Loading in mesh"
   ]
  },
  {
   "cell_type": "code",
   "execution_count": 60,
   "id": "c8565a62",
   "metadata": {},
   "outputs": [
    {
     "name": "stdout",
     "output_type": "stream",
     "text": [
      "Reading PLY file: /home/jose/Github/my_projs/abm_detect/notebooks/isosurface_tri.ply[========================================] 100%\n",
      "Reading PLY file: /home/jose/Github/my_projs/abm_detect/notebooks/isosurface_tri.ply[=======================================>] 98%\r"
     ]
    }
   ],
   "source": [
    "mesh = o3d.io.read_triangle_mesh(\"/home/jose/Github/my_projs/abm_detect/notebooks/isosurface_tri.ply\",print_progress=True)\n",
    "o3d.visualization.draw_geometries([mesh])"
   ]
  },
  {
   "cell_type": "code",
   "execution_count": 61,
   "id": "3bcca9b7",
   "metadata": {},
   "outputs": [
    {
     "name": "stdout",
     "output_type": "stream",
     "text": [
      "These are the vertices!!!\n",
      "[[5.97783e+05 5.05995e+06 3.39260e+02]\n",
      " [5.97783e+05 5.05995e+06 3.39110e+02]\n",
      " [5.97784e+05 5.05995e+06 3.39060e+02]\n",
      " ...\n",
      " [5.98357e+05 5.06040e+06 1.56460e+02]\n",
      " [5.98356e+05 5.06040e+06 1.55180e+02]\n",
      " [5.98355e+05 5.06040e+06 1.54040e+02]]\n",
      "\n",
      "These are the triangle faces!!!\n",
      "[[2172766 2172652 1100670]\n",
      " [1100670 1727980 2172766]\n",
      " [1100670 2172524 1727980]\n",
      " ...\n",
      " [  29489    3985   29485]\n",
      " [  29489   29485    3984]\n",
      " [  29484   29485   78585]]\n"
     ]
    }
   ],
   "source": [
    "print('These are the vertices!!!')\n",
    "print(np.asarray(mesh.vertices))\n",
    "print()\n",
    "print('These are the triangle faces!!!')\n",
    "print(np.asarray(mesh.triangles))\n",
    "\n"
   ]
  },
  {
   "cell_type": "markdown",
   "id": "9dc5837e",
   "metadata": {},
   "source": [
    "*** NOTE: PDAL allows you to compute normals during pipeline for .las... ###\n",
    "\n",
    "However...\n",
    "\n",
    "Not for the commandline pipeline of a isosurface.ply file...\n",
    "So... untill you can find a way to stream line python + comandline in PDAL. This is the only way to compute normals\n",
    "of a mesh. intother words... untill you get scipy.spatial.Delaunay() to play well with open3d..."
   ]
  },
  {
   "cell_type": "code",
   "execution_count": 62,
   "id": "7645683d",
   "metadata": {},
   "outputs": [
    {
     "name": "stdout",
     "output_type": "stream",
     "text": [
      "Does mesh have normals? (exist: False).... :(\n"
     ]
    }
   ],
   "source": [
    "print(\"Does mesh have normals? (exist: \" + str(mesh.has_vertex_normals())+').... :(')\n"
   ]
  },
  {
   "cell_type": "code",
   "execution_count": 63,
   "id": "f76d2aa2",
   "metadata": {},
   "outputs": [
    {
     "data": {
      "text/plain": [
       "TriangleMesh with 2571039 points and 5139526 triangles."
      ]
     },
     "execution_count": 63,
     "metadata": {},
     "output_type": "execute_result"
    }
   ],
   "source": [
    "mesh.compute_vertex_normals() # computing normals"
   ]
  },
  {
   "cell_type": "code",
   "execution_count": 64,
   "id": "dec98640",
   "metadata": {},
   "outputs": [
    {
     "name": "stdout",
     "output_type": "stream",
     "text": [
      "How about now? (normals exist: True).... :)\n"
     ]
    }
   ],
   "source": [
    "print(\"How about now? (normals exist: \" + str(mesh.has_vertex_normals())+').... :)')"
   ]
  },
  {
   "cell_type": "code",
   "execution_count": 65,
   "id": "797185a1",
   "metadata": {},
   "outputs": [],
   "source": [
    "o3d.visualization.draw_geometries([mesh])"
   ]
  },
  {
   "cell_type": "code",
   "execution_count": 123,
   "id": "c91e497e",
   "metadata": {},
   "outputs": [
    {
     "name": "stdout",
     "output_type": "stream",
     "text": [
      "Painting the mesh\n"
     ]
    }
   ],
   "source": [
    "# PAINTING STUFF!!!\n",
    "print(\"Painting the mesh\")\n",
    "mesh.paint_uniform_color([0.55, .15, 0.2])\n",
    "o3d.visualization.draw_geometries([mesh])\n"
   ]
  },
  {
   "cell_type": "markdown",
   "id": "0c20d556",
   "metadata": {},
   "source": [
    "# Average Mesh Filtering"
   ]
  },
  {
   "cell_type": "code",
   "execution_count": 118,
   "id": "68079db5",
   "metadata": {},
   "outputs": [],
   "source": [
    "# making a copy of original mesh to mess around with it\n",
    "import copy\n",
    "mesh1 = copy.deepcopy(mesh)"
   ]
  },
  {
   "cell_type": "code",
   "execution_count": 128,
   "id": "2784336f",
   "metadata": {},
   "outputs": [
    {
     "name": "stdout",
     "output_type": "stream",
     "text": [
      "filter with average with 1 iteration\n"
     ]
    }
   ],
   "source": [
    "print('filter with average with 1 iteration')\n",
    "mesh_out = mesh1.filter_smooth_simple(number_of_iterations=1)\n",
    "mesh_out.compute_vertex_normals()\n",
    "o3d.visualization.draw_geometries([mesh_out])"
   ]
  },
  {
   "cell_type": "code",
   "execution_count": 130,
   "id": "64158302",
   "metadata": {},
   "outputs": [
    {
     "name": "stdout",
     "output_type": "stream",
     "text": [
      "filter with average with 5 iterations\n"
     ]
    }
   ],
   "source": [
    "print('filter with average with 5 iterations')\n",
    "mesh_out = mesh1.filter_smooth_simple(number_of_iterations=5)\n",
    "mesh_out.compute_vertex_normals()\n",
    "o3d.visualization.draw_geometries([mesh_out])\n",
    "\n"
   ]
  },
  {
   "cell_type": "code",
   "execution_count": 126,
   "id": "7748269f",
   "metadata": {},
   "outputs": [
    {
     "name": "stdout",
     "output_type": "stream",
     "text": [
      "filter with average with 5 iterations\n"
     ]
    }
   ],
   "source": [
    "print('filter with average with 5 iterations')\n",
    "mesh_out = mesh1.filter_smooth_simple(number_of_iterations=10)\n",
    "mesh_out.compute_vertex_normals()\n",
    "o3d.visualization.draw_geometries([mesh_out])"
   ]
  },
  {
   "cell_type": "code",
   "execution_count": 131,
   "id": "e5269999",
   "metadata": {},
   "outputs": [],
   "source": [
    "o3d.visualization.draw_geometries([mesh_out],mesh_show_wireframe=True)"
   ]
  },
  {
   "cell_type": "markdown",
   "id": "afd59c2d",
   "metadata": {},
   "source": [
    "# Laplacian Mesh Filtering"
   ]
  },
  {
   "cell_type": "code",
   "execution_count": 133,
   "id": "b15d0832",
   "metadata": {},
   "outputs": [
    {
     "name": "stdout",
     "output_type": "stream",
     "text": [
      "filter with Laplacian with 10 iterations\n"
     ]
    }
   ],
   "source": [
    "print('filter with Laplacian with 10 iterations')\n",
    "mesh_out = mesh1.filter_smooth_laplacian(number_of_iterations=10)\n",
    "mesh_out.compute_vertex_normals()\n",
    "o3d.visualization.draw_geometries([mesh_out])\n"
   ]
  },
  {
   "cell_type": "code",
   "execution_count": 134,
   "id": "e3c1745d",
   "metadata": {},
   "outputs": [],
   "source": [
    "o3d.visualization.draw_geometries([mesh_out],mesh_show_wireframe=True)"
   ]
  },
  {
   "cell_type": "code",
   "execution_count": null,
   "id": "9a26b176",
   "metadata": {},
   "outputs": [],
   "source": []
  },
  {
   "cell_type": "code",
   "execution_count": null,
   "id": "c6422406",
   "metadata": {},
   "outputs": [],
   "source": []
  },
  {
   "cell_type": "code",
   "execution_count": null,
   "id": "b4cb488d",
   "metadata": {},
   "outputs": [],
   "source": []
  },
  {
   "cell_type": "code",
   "execution_count": null,
   "id": "fafdd880",
   "metadata": {},
   "outputs": [],
   "source": []
  },
  {
   "cell_type": "markdown",
   "id": "250b1048",
   "metadata": {},
   "source": [
    "# Mesh Decimation"
   ]
  },
  {
   "cell_type": "code",
   "execution_count": 144,
   "id": "c5e2c6a9",
   "metadata": {},
   "outputs": [],
   "source": [
    "mesh_smp = mesh1.simplify_quadric_decimation(target_number_of_triangles=4000000)"
   ]
  },
  {
   "cell_type": "code",
   "execution_count": 145,
   "id": "c32ecaaf",
   "metadata": {},
   "outputs": [],
   "source": [
    "o3d.visualization.draw_geometries([mesh_smp],mesh_show_wireframe=True)"
   ]
  },
  {
   "cell_type": "code",
   "execution_count": 148,
   "id": "28662933",
   "metadata": {},
   "outputs": [
    {
     "name": "stdout",
     "output_type": "stream",
     "text": [
      "filter with average with 1 iterations\n"
     ]
    }
   ],
   "source": [
    "print('filter with average with 1 iterations')\n",
    "mesh_out = mesh_smp.filter_smooth_simple(number_of_iterations=5)\n",
    "mesh_smp.compute_vertex_normals()\n",
    "o3d.visualization.draw_geometries([mesh_out])"
   ]
  },
  {
   "cell_type": "code",
   "execution_count": 149,
   "id": "41a927c1",
   "metadata": {},
   "outputs": [],
   "source": [
    "o3d.visualization.draw_geometries([mesh_out],mesh_show_wireframe=True)"
   ]
  },
  {
   "cell_type": "code",
   "execution_count": null,
   "id": "9089e3d9",
   "metadata": {},
   "outputs": [],
   "source": []
  }
 ],
 "metadata": {
  "kernelspec": {
   "display_name": "Python 3 (ipykernel)",
   "language": "python",
   "name": "python3"
  },
  "language_info": {
   "codemirror_mode": {
    "name": "ipython",
    "version": 3
   },
   "file_extension": ".py",
   "mimetype": "text/x-python",
   "name": "python",
   "nbconvert_exporter": "python",
   "pygments_lexer": "ipython3",
   "version": "3.8.12"
  }
 },
 "nbformat": 4,
 "nbformat_minor": 5
}
