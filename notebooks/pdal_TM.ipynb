{
 "cells": [
  {
   "cell_type": "code",
   "execution_count": 1,
   "id": "72bca21f",
   "metadata": {},
   "outputs": [],
   "source": [
    "import pdal\n",
    "import ipyleaflet\n",
    "import IPython.display\n",
    "import ipyvolume.pylab as p3\n",
    "import matplotlib.cm\n",
    "import matplotlib.pyplot as plt\n",
    "import numpy as np\n",
    "import pandas as pd\n",
    "import shapely.geometry\n",
    "import scipy.spatial\n",
    "\n",
    "import os\n",
    "import requests\n",
    "import json\n",
    "import sys\n",
    "import urllib.request\n"
   ]
  },
  {
   "cell_type": "code",
   "execution_count": 2,
   "id": "e9b2a899",
   "metadata": {},
   "outputs": [],
   "source": [
    "### Important directory paths\n",
    "\n",
    "TM_las = '/home/jose/Documents/LiDAR/TM/GIS_data/mine_locations/alot_mines_colored.las'\n",
    "py_export = '/home/jose/Github/my_projs/abm_detect/Figures/python_export/TM_lidar'"
   ]
  },
  {
   "cell_type": "markdown",
   "id": "8fe1c40b",
   "metadata": {},
   "source": [
    "# Map of Field Area in OSM "
   ]
  },
  {
   "cell_type": "code",
   "execution_count": 3,
   "id": "728dee0e",
   "metadata": {},
   "outputs": [
    {
     "data": {
      "application/vnd.jupyter.widget-view+json": {
       "model_id": "b7013df056f642e0bcc434ccb2850d25",
       "version_major": 2,
       "version_minor": 0
      },
      "text/plain": [
       "Map(center=[32.29, 253.3], controls=(ZoomControl(options=['position', 'zoom_in_text', 'zoom_in_title', 'zoom_o…"
      ]
     },
     "metadata": {},
     "output_type": "display_data"
    }
   ],
   "source": [
    "m = ipyleaflet.Map(center=(32.29, 253.3), zoom=13)\n",
    "m"
   ]
  },
  {
   "cell_type": "code",
   "execution_count": 4,
   "id": "bfa977f0",
   "metadata": {},
   "outputs": [],
   "source": [
    "# IS USED FOR POLYGONS! not really needed seing as ipyleaflet uses osm. only see da roads :(\n",
    "dc = ipyleaflet.DrawControl()\n",
    "m.add_control(dc)"
   ]
  },
  {
   "cell_type": "code",
   "execution_count": 5,
   "id": "cd869152",
   "metadata": {},
   "outputs": [
    {
     "ename": "TypeError",
     "evalue": "'NoneType' object is not subscriptable",
     "output_type": "error",
     "traceback": [
      "\u001b[0;31m---------------------------------------------------------------------------\u001b[0m",
      "\u001b[0;31mTypeError\u001b[0m                                 Traceback (most recent call last)",
      "\u001b[0;32m/tmp/ipykernel_25674/3418851559.py\u001b[0m in \u001b[0;36m<module>\u001b[0;34m\u001b[0m\n\u001b[0;32m----> 1\u001b[0;31m \u001b[0mdc\u001b[0m\u001b[0;34m.\u001b[0m\u001b[0mlast_draw\u001b[0m\u001b[0;34m[\u001b[0m\u001b[0;34m'geometry'\u001b[0m\u001b[0;34m]\u001b[0m\u001b[0;34m[\u001b[0m\u001b[0;34m'coordinates'\u001b[0m\u001b[0;34m]\u001b[0m\u001b[0;34m[\u001b[0m\u001b[0;36m0\u001b[0m\u001b[0;34m]\u001b[0m  \u001b[0;31m# the coordinates of the drawn polygon\u001b[0m\u001b[0;34m\u001b[0m\u001b[0;34m\u001b[0m\u001b[0m\n\u001b[0m",
      "\u001b[0;31mTypeError\u001b[0m: 'NoneType' object is not subscriptable"
     ]
    }
   ],
   "source": [
    "dc.last_draw['geometry']['coordinates'][0]  # the coordinates of the drawn polygon"
   ]
  },
  {
   "cell_type": "markdown",
   "id": "24a3c63c",
   "metadata": {},
   "source": [
    "# PDAL: Loading .las into memory "
   ]
  },
  {
   "cell_type": "code",
   "execution_count": 5,
   "id": "af353520",
   "metadata": {},
   "outputs": [
    {
     "name": "stdout",
     "output_type": "stream",
     "text": [
      "CPU times: user 8.59 s, sys: 72 ms, total: 8.66 s\n",
      "Wall time: 8.6 s\n",
      "Pipeline selected 543604 points\n"
     ]
    }
   ],
   "source": [
    "cropper = {\n",
    "    \"pipeline\": [ TM_las,\n",
    "        {   \"type\":\"filters.eigenvalues\",\n",
    "            \"knn\":16},\n",
    "        {   \"type\":\"filters.normal\",\n",
    "            \"knn\":16}\n",
    "    ]}\n",
    "pipeline = pdal.Pipeline(json.dumps(cropper))\n",
    "pipeline.validate()\n",
    "%time n_points = pipeline.execute()\n",
    "print('Pipeline selected {} points'.format(n_points))"
   ]
  },
  {
   "cell_type": "code",
   "execution_count": 7,
   "id": "02cd3f1d",
   "metadata": {},
   "outputs": [],
   "source": [
    "#creating numpy and pandas objects from pdal pipeline\n",
    "arr = pipeline.arrays[0]\n",
    "description = arr.dtype.descr\n",
    "cols = [col for col, __ in description]\n",
    "df = pd.DataFrame({col: arr[col] for col in cols})\n",
    "df['X_0'] = df['X']\n",
    "df['Y_0'] = df['Y']\n",
    "df['Z_0'] = df['Z']\n",
    "df['X'] = df['X'] - df['X_0'].min()\n",
    "df['Y'] = df['Y'] - df['Y_0'].min()\n",
    "df['Z'] = df['Z'] - df['Z_0'].min()\n"
   ]
  },
  {
   "cell_type": "code",
   "execution_count": 8,
   "id": "61522ccf",
   "metadata": {},
   "outputs": [
    {
     "ename": "TypeError",
     "evalue": "quiver() missing 3 required positional arguments: 'u', 'v', and 'w'",
     "output_type": "error",
     "traceback": [
      "\u001b[0;31m---------------------------------------------------------------------------\u001b[0m",
      "\u001b[0;31mTypeError\u001b[0m                                 Traceback (most recent call last)",
      "\u001b[0;32m/tmp/ipykernel_48810/655834982.py\u001b[0m in \u001b[0;36m<module>\u001b[0;34m\u001b[0m\n\u001b[1;32m      3\u001b[0m \u001b[0mfig\u001b[0m\u001b[0;34m.\u001b[0m\u001b[0mylabel\u001b[0m\u001b[0;34m=\u001b[0m\u001b[0;34m'Z'\u001b[0m\u001b[0;34m\u001b[0m\u001b[0;34m\u001b[0m\u001b[0m\n\u001b[1;32m      4\u001b[0m \u001b[0mfig\u001b[0m\u001b[0;34m.\u001b[0m\u001b[0mzlabel\u001b[0m\u001b[0;34m=\u001b[0m\u001b[0;34m'X'\u001b[0m\u001b[0;34m\u001b[0m\u001b[0;34m\u001b[0m\u001b[0m\n\u001b[0;32m----> 5\u001b[0;31m \u001b[0mall_points\u001b[0m \u001b[0;34m=\u001b[0m \u001b[0mp3\u001b[0m\u001b[0;34m.\u001b[0m\u001b[0mquiver\u001b[0m\u001b[0;34m(\u001b[0m\u001b[0mdf\u001b[0m\u001b[0;34m[\u001b[0m\u001b[0;34m'Y'\u001b[0m\u001b[0;34m]\u001b[0m\u001b[0;34m,\u001b[0m \u001b[0mdf\u001b[0m\u001b[0;34m[\u001b[0m\u001b[0;34m'Z'\u001b[0m\u001b[0;34m]\u001b[0m\u001b[0;34m,\u001b[0m \u001b[0mdf\u001b[0m\u001b[0;34m[\u001b[0m\u001b[0;34m'X'\u001b[0m\u001b[0;34m]\u001b[0m\u001b[0;34m,\u001b[0m \u001b[0mcolor\u001b[0m\u001b[0;34m=\u001b[0m\u001b[0;34m'red'\u001b[0m\u001b[0;34m,\u001b[0m \u001b[0msize\u001b[0m\u001b[0;34m=\u001b[0m\u001b[0;36m.5\u001b[0m\u001b[0;34m)\u001b[0m\u001b[0;34m\u001b[0m\u001b[0;34m\u001b[0m\u001b[0m\n\u001b[0m\u001b[1;32m      6\u001b[0m \u001b[0mp3\u001b[0m\u001b[0;34m.\u001b[0m\u001b[0msquarelim\u001b[0m\u001b[0;34m(\u001b[0m\u001b[0;34m)\u001b[0m\u001b[0;34m\u001b[0m\u001b[0;34m\u001b[0m\u001b[0m\n\u001b[1;32m      7\u001b[0m \u001b[0mp3\u001b[0m\u001b[0;34m.\u001b[0m\u001b[0mshow\u001b[0m\u001b[0;34m(\u001b[0m\u001b[0;34m)\u001b[0m\u001b[0;34m\u001b[0m\u001b[0;34m\u001b[0m\u001b[0m\n",
      "\u001b[0;31mTypeError\u001b[0m: quiver() missing 3 required positional arguments: 'u', 'v', and 'w'"
     ]
    }
   ],
   "source": [
    "fig = p3.figure(width=500)\n",
    "fig.xlabel='Y'\n",
    "fig.ylabel='Z'\n",
    "fig.zlabel='X'\n",
    "all_points = p3.quiver(df['Y'], df['Z'], df['X'], color='red', size=.5)\n",
    "p3.squarelim()\n",
    "p3.show()"
   ]
  },
  {
   "cell_type": "code",
   "execution_count": 21,
   "id": "efd35fd5",
   "metadata": {},
   "outputs": [
    {
     "data": {
      "text/plain": [
       "[('X', '<f8'),\n",
       " ('Y', '<f8'),\n",
       " ('Z', '<f8'),\n",
       " ('Intensity', '<u2'),\n",
       " ('ReturnNumber', '|u1'),\n",
       " ('NumberOfReturns', '|u1'),\n",
       " ('ScanDirectionFlag', '|u1'),\n",
       " ('EdgeOfFlightLine', '|u1'),\n",
       " ('Classification', '|u1'),\n",
       " ('ScanAngleRank', '<f4'),\n",
       " ('UserData', '|u1'),\n",
       " ('PointSourceId', '<u2'),\n",
       " ('GpsTime', '<f8'),\n",
       " ('Red', '<u2'),\n",
       " ('Green', '<u2'),\n",
       " ('Blue', '<u2'),\n",
       " ('Eigenvalue0', '<f8'),\n",
       " ('Eigenvalue1', '<f8'),\n",
       " ('Eigenvalue2', '<f8'),\n",
       " ('NormalX', '<f8'),\n",
       " ('NormalY', '<f8'),\n",
       " ('NormalZ', '<f8'),\n",
       " ('Curvature', '<f8')]"
      ]
     },
     "execution_count": 21,
     "metadata": {},
     "output_type": "execute_result"
    }
   ],
   "source": [
    "description"
   ]
  },
  {
   "cell_type": "code",
   "execution_count": 19,
   "id": "81be1d94",
   "metadata": {},
   "outputs": [
    {
     "data": {
      "text/html": [
       "<div>\n",
       "<style scoped>\n",
       "    .dataframe tbody tr th:only-of-type {\n",
       "        vertical-align: middle;\n",
       "    }\n",
       "\n",
       "    .dataframe tbody tr th {\n",
       "        vertical-align: top;\n",
       "    }\n",
       "\n",
       "    .dataframe thead th {\n",
       "        text-align: right;\n",
       "    }\n",
       "</style>\n",
       "<table border=\"1\" class=\"dataframe\">\n",
       "  <thead>\n",
       "    <tr style=\"text-align: right;\">\n",
       "      <th></th>\n",
       "      <th>X</th>\n",
       "      <th>Y</th>\n",
       "      <th>Z</th>\n",
       "      <th>Intensity</th>\n",
       "      <th>ReturnNumber</th>\n",
       "      <th>NumberOfReturns</th>\n",
       "      <th>ScanDirectionFlag</th>\n",
       "      <th>EdgeOfFlightLine</th>\n",
       "      <th>Classification</th>\n",
       "      <th>ScanAngleRank</th>\n",
       "      <th>...</th>\n",
       "      <th>Eigenvalue0</th>\n",
       "      <th>Eigenvalue1</th>\n",
       "      <th>Eigenvalue2</th>\n",
       "      <th>NormalX</th>\n",
       "      <th>NormalY</th>\n",
       "      <th>NormalZ</th>\n",
       "      <th>Curvature</th>\n",
       "      <th>X_0</th>\n",
       "      <th>Y_0</th>\n",
       "      <th>Z_0</th>\n",
       "    </tr>\n",
       "  </thead>\n",
       "  <tbody>\n",
       "    <tr>\n",
       "      <th>0</th>\n",
       "      <td>187.25</td>\n",
       "      <td>65.84</td>\n",
       "      <td>48.31</td>\n",
       "      <td>33368</td>\n",
       "      <td>1</td>\n",
       "      <td>1</td>\n",
       "      <td>0</td>\n",
       "      <td>0</td>\n",
       "      <td>0</td>\n",
       "      <td>5.0</td>\n",
       "      <td>...</td>\n",
       "      <td>0.000612</td>\n",
       "      <td>0.283182</td>\n",
       "      <td>0.481425</td>\n",
       "      <td>0.078719</td>\n",
       "      <td>-0.050842</td>\n",
       "      <td>0.995600</td>\n",
       "      <td>0.000799</td>\n",
       "      <td>340394.25</td>\n",
       "      <td>3573621.44</td>\n",
       "      <td>1432.31</td>\n",
       "    </tr>\n",
       "    <tr>\n",
       "      <th>1</th>\n",
       "      <td>173.87</td>\n",
       "      <td>66.24</td>\n",
       "      <td>49.25</td>\n",
       "      <td>36056</td>\n",
       "      <td>1</td>\n",
       "      <td>1</td>\n",
       "      <td>1</td>\n",
       "      <td>0</td>\n",
       "      <td>0</td>\n",
       "      <td>5.0</td>\n",
       "      <td>...</td>\n",
       "      <td>0.000751</td>\n",
       "      <td>0.288867</td>\n",
       "      <td>0.386681</td>\n",
       "      <td>0.036121</td>\n",
       "      <td>-0.101415</td>\n",
       "      <td>0.994188</td>\n",
       "      <td>0.001110</td>\n",
       "      <td>340380.87</td>\n",
       "      <td>3573621.84</td>\n",
       "      <td>1433.25</td>\n",
       "    </tr>\n",
       "    <tr>\n",
       "      <th>2</th>\n",
       "      <td>159.62</td>\n",
       "      <td>66.21</td>\n",
       "      <td>50.04</td>\n",
       "      <td>34904</td>\n",
       "      <td>1</td>\n",
       "      <td>1</td>\n",
       "      <td>0</td>\n",
       "      <td>0</td>\n",
       "      <td>0</td>\n",
       "      <td>6.0</td>\n",
       "      <td>...</td>\n",
       "      <td>0.000135</td>\n",
       "      <td>0.255970</td>\n",
       "      <td>0.314008</td>\n",
       "      <td>0.011052</td>\n",
       "      <td>-0.155212</td>\n",
       "      <td>0.987819</td>\n",
       "      <td>0.000237</td>\n",
       "      <td>340366.62</td>\n",
       "      <td>3573621.81</td>\n",
       "      <td>1434.04</td>\n",
       "    </tr>\n",
       "    <tr>\n",
       "      <th>3</th>\n",
       "      <td>173.88</td>\n",
       "      <td>73.03</td>\n",
       "      <td>49.95</td>\n",
       "      <td>35848</td>\n",
       "      <td>1</td>\n",
       "      <td>1</td>\n",
       "      <td>0</td>\n",
       "      <td>0</td>\n",
       "      <td>0</td>\n",
       "      <td>5.0</td>\n",
       "      <td>...</td>\n",
       "      <td>0.001161</td>\n",
       "      <td>0.207503</td>\n",
       "      <td>0.427400</td>\n",
       "      <td>0.108622</td>\n",
       "      <td>-0.067993</td>\n",
       "      <td>0.991755</td>\n",
       "      <td>0.001825</td>\n",
       "      <td>340380.88</td>\n",
       "      <td>3573628.63</td>\n",
       "      <td>1433.95</td>\n",
       "    </tr>\n",
       "    <tr>\n",
       "      <th>4</th>\n",
       "      <td>98.62</td>\n",
       "      <td>65.02</td>\n",
       "      <td>53.71</td>\n",
       "      <td>40408</td>\n",
       "      <td>1</td>\n",
       "      <td>1</td>\n",
       "      <td>0</td>\n",
       "      <td>0</td>\n",
       "      <td>0</td>\n",
       "      <td>8.0</td>\n",
       "      <td>...</td>\n",
       "      <td>0.001029</td>\n",
       "      <td>0.168253</td>\n",
       "      <td>0.433131</td>\n",
       "      <td>0.193586</td>\n",
       "      <td>-0.111395</td>\n",
       "      <td>0.974739</td>\n",
       "      <td>0.001709</td>\n",
       "      <td>340305.62</td>\n",
       "      <td>3573620.62</td>\n",
       "      <td>1437.71</td>\n",
       "    </tr>\n",
       "    <tr>\n",
       "      <th>...</th>\n",
       "      <td>...</td>\n",
       "      <td>...</td>\n",
       "      <td>...</td>\n",
       "      <td>...</td>\n",
       "      <td>...</td>\n",
       "      <td>...</td>\n",
       "      <td>...</td>\n",
       "      <td>...</td>\n",
       "      <td>...</td>\n",
       "      <td>...</td>\n",
       "      <td>...</td>\n",
       "      <td>...</td>\n",
       "      <td>...</td>\n",
       "      <td>...</td>\n",
       "      <td>...</td>\n",
       "      <td>...</td>\n",
       "      <td>...</td>\n",
       "      <td>...</td>\n",
       "      <td>...</td>\n",
       "      <td>...</td>\n",
       "      <td>...</td>\n",
       "    </tr>\n",
       "    <tr>\n",
       "      <th>543599</th>\n",
       "      <td>113.80</td>\n",
       "      <td>507.12</td>\n",
       "      <td>76.39</td>\n",
       "      <td>36664</td>\n",
       "      <td>1</td>\n",
       "      <td>1</td>\n",
       "      <td>0</td>\n",
       "      <td>0</td>\n",
       "      <td>0</td>\n",
       "      <td>-11.0</td>\n",
       "      <td>...</td>\n",
       "      <td>0.000906</td>\n",
       "      <td>0.264089</td>\n",
       "      <td>0.354787</td>\n",
       "      <td>0.254255</td>\n",
       "      <td>-0.110226</td>\n",
       "      <td>0.960835</td>\n",
       "      <td>0.001462</td>\n",
       "      <td>340320.80</td>\n",
       "      <td>3574062.72</td>\n",
       "      <td>1460.39</td>\n",
       "    </tr>\n",
       "    <tr>\n",
       "      <th>543600</th>\n",
       "      <td>112.05</td>\n",
       "      <td>507.28</td>\n",
       "      <td>76.89</td>\n",
       "      <td>34904</td>\n",
       "      <td>1</td>\n",
       "      <td>1</td>\n",
       "      <td>0</td>\n",
       "      <td>0</td>\n",
       "      <td>0</td>\n",
       "      <td>-11.0</td>\n",
       "      <td>...</td>\n",
       "      <td>0.000426</td>\n",
       "      <td>0.292659</td>\n",
       "      <td>0.325105</td>\n",
       "      <td>0.330912</td>\n",
       "      <td>-0.155697</td>\n",
       "      <td>0.930728</td>\n",
       "      <td>0.000689</td>\n",
       "      <td>340319.05</td>\n",
       "      <td>3574062.88</td>\n",
       "      <td>1460.89</td>\n",
       "    </tr>\n",
       "    <tr>\n",
       "      <th>543601</th>\n",
       "      <td>106.83</td>\n",
       "      <td>507.32</td>\n",
       "      <td>78.85</td>\n",
       "      <td>34152</td>\n",
       "      <td>1</td>\n",
       "      <td>1</td>\n",
       "      <td>1</td>\n",
       "      <td>0</td>\n",
       "      <td>0</td>\n",
       "      <td>-11.0</td>\n",
       "      <td>...</td>\n",
       "      <td>0.000408</td>\n",
       "      <td>0.310660</td>\n",
       "      <td>0.519154</td>\n",
       "      <td>0.346066</td>\n",
       "      <td>-0.203357</td>\n",
       "      <td>0.915906</td>\n",
       "      <td>0.000492</td>\n",
       "      <td>340313.83</td>\n",
       "      <td>3574062.92</td>\n",
       "      <td>1462.85</td>\n",
       "    </tr>\n",
       "    <tr>\n",
       "      <th>543602</th>\n",
       "      <td>107.98</td>\n",
       "      <td>507.22</td>\n",
       "      <td>78.40</td>\n",
       "      <td>32936</td>\n",
       "      <td>1</td>\n",
       "      <td>1</td>\n",
       "      <td>1</td>\n",
       "      <td>0</td>\n",
       "      <td>0</td>\n",
       "      <td>-11.0</td>\n",
       "      <td>...</td>\n",
       "      <td>0.000718</td>\n",
       "      <td>0.301042</td>\n",
       "      <td>0.598865</td>\n",
       "      <td>0.369223</td>\n",
       "      <td>-0.111760</td>\n",
       "      <td>0.922596</td>\n",
       "      <td>0.000797</td>\n",
       "      <td>340314.98</td>\n",
       "      <td>3574062.82</td>\n",
       "      <td>1462.40</td>\n",
       "    </tr>\n",
       "    <tr>\n",
       "      <th>543603</th>\n",
       "      <td>110.27</td>\n",
       "      <td>507.01</td>\n",
       "      <td>77.53</td>\n",
       "      <td>34936</td>\n",
       "      <td>1</td>\n",
       "      <td>1</td>\n",
       "      <td>1</td>\n",
       "      <td>0</td>\n",
       "      <td>0</td>\n",
       "      <td>-11.0</td>\n",
       "      <td>...</td>\n",
       "      <td>0.001142</td>\n",
       "      <td>0.250475</td>\n",
       "      <td>0.343158</td>\n",
       "      <td>0.334777</td>\n",
       "      <td>-0.069546</td>\n",
       "      <td>0.939728</td>\n",
       "      <td>0.001920</td>\n",
       "      <td>340317.27</td>\n",
       "      <td>3574062.61</td>\n",
       "      <td>1461.53</td>\n",
       "    </tr>\n",
       "  </tbody>\n",
       "</table>\n",
       "<p>543604 rows × 26 columns</p>\n",
       "</div>"
      ],
      "text/plain": [
       "             X       Y      Z  Intensity  ReturnNumber  NumberOfReturns  \\\n",
       "0       187.25   65.84  48.31      33368             1                1   \n",
       "1       173.87   66.24  49.25      36056             1                1   \n",
       "2       159.62   66.21  50.04      34904             1                1   \n",
       "3       173.88   73.03  49.95      35848             1                1   \n",
       "4        98.62   65.02  53.71      40408             1                1   \n",
       "...        ...     ...    ...        ...           ...              ...   \n",
       "543599  113.80  507.12  76.39      36664             1                1   \n",
       "543600  112.05  507.28  76.89      34904             1                1   \n",
       "543601  106.83  507.32  78.85      34152             1                1   \n",
       "543602  107.98  507.22  78.40      32936             1                1   \n",
       "543603  110.27  507.01  77.53      34936             1                1   \n",
       "\n",
       "        ScanDirectionFlag  EdgeOfFlightLine  Classification  ScanAngleRank  \\\n",
       "0                       0                 0               0            5.0   \n",
       "1                       1                 0               0            5.0   \n",
       "2                       0                 0               0            6.0   \n",
       "3                       0                 0               0            5.0   \n",
       "4                       0                 0               0            8.0   \n",
       "...                   ...               ...             ...            ...   \n",
       "543599                  0                 0               0          -11.0   \n",
       "543600                  0                 0               0          -11.0   \n",
       "543601                  1                 0               0          -11.0   \n",
       "543602                  1                 0               0          -11.0   \n",
       "543603                  1                 0               0          -11.0   \n",
       "\n",
       "        ...  Eigenvalue0  Eigenvalue1  Eigenvalue2   NormalX   NormalY  \\\n",
       "0       ...     0.000612     0.283182     0.481425  0.078719 -0.050842   \n",
       "1       ...     0.000751     0.288867     0.386681  0.036121 -0.101415   \n",
       "2       ...     0.000135     0.255970     0.314008  0.011052 -0.155212   \n",
       "3       ...     0.001161     0.207503     0.427400  0.108622 -0.067993   \n",
       "4       ...     0.001029     0.168253     0.433131  0.193586 -0.111395   \n",
       "...     ...          ...          ...          ...       ...       ...   \n",
       "543599  ...     0.000906     0.264089     0.354787  0.254255 -0.110226   \n",
       "543600  ...     0.000426     0.292659     0.325105  0.330912 -0.155697   \n",
       "543601  ...     0.000408     0.310660     0.519154  0.346066 -0.203357   \n",
       "543602  ...     0.000718     0.301042     0.598865  0.369223 -0.111760   \n",
       "543603  ...     0.001142     0.250475     0.343158  0.334777 -0.069546   \n",
       "\n",
       "         NormalZ  Curvature        X_0         Y_0      Z_0  \n",
       "0       0.995600   0.000799  340394.25  3573621.44  1432.31  \n",
       "1       0.994188   0.001110  340380.87  3573621.84  1433.25  \n",
       "2       0.987819   0.000237  340366.62  3573621.81  1434.04  \n",
       "3       0.991755   0.001825  340380.88  3573628.63  1433.95  \n",
       "4       0.974739   0.001709  340305.62  3573620.62  1437.71  \n",
       "...          ...        ...        ...         ...      ...  \n",
       "543599  0.960835   0.001462  340320.80  3574062.72  1460.39  \n",
       "543600  0.930728   0.000689  340319.05  3574062.88  1460.89  \n",
       "543601  0.915906   0.000492  340313.83  3574062.92  1462.85  \n",
       "543602  0.922596   0.000797  340314.98  3574062.82  1462.40  \n",
       "543603  0.939728   0.001920  340317.27  3574062.61  1461.53  \n",
       "\n",
       "[543604 rows x 26 columns]"
      ]
     },
     "execution_count": 19,
     "metadata": {},
     "output_type": "execute_result"
    }
   ],
   "source": [
    "df"
   ]
  },
  {
   "cell_type": "code",
   "execution_count": 44,
   "id": "a178ce97",
   "metadata": {},
   "outputs": [],
   "source": [
    "# Show ground as surface\n",
    "ground_delaunay = scipy.spatial.Delaunay(df[['Z','X','Y']])\n",
    "#ground_surf = p3.plot_trisurf(df.loc[df['Curvature'],'Y'], df.loc[df['ground'],'Z'], df.loc[df['ground'],'X'], ground_delaunay.simplices, color='lightgrey')\n",
    "#fig.meshes.append(ground_surf)\n",
    "#ground.visible=False"
   ]
  },
  {
   "cell_type": "code",
   "execution_count": null,
   "id": "738c3c50",
   "metadata": {},
   "outputs": [],
   "source": []
  },
  {
   "cell_type": "code",
   "execution_count": null,
   "id": "b4a72973",
   "metadata": {},
   "outputs": [],
   "source": []
  },
  {
   "cell_type": "code",
   "execution_count": 50,
   "id": "db8d57b4",
   "metadata": {},
   "outputs": [
    {
     "data": {
      "application/vnd.jupyter.widget-view+json": {
       "model_id": "5fcbb2cd29884775912aac490f9ae88a",
       "version_major": 2,
       "version_minor": 0
      },
      "text/plain": [
       "VBox(children=(Figure(camera=PerspectiveCamera(fov=45.0, matrixWorldNeedsUpdate=True, position=(0.0, 2.9763602…"
      ]
     },
     "metadata": {},
     "output_type": "display_data"
    }
   ],
   "source": [
    "ground_surf = p3.plot_trisurf(df[['Curvature','Y']], df[['Curvature','Z']], df[['Curvature','X']], ground_delaunay.simplices, color='lightgrey')\n",
    "fig.meshes.append(ground_surf)\n",
    "#p3.show()"
   ]
  },
  {
   "cell_type": "code",
   "execution_count": 58,
   "id": "68b53f44",
   "metadata": {},
   "outputs": [],
   "source": [
    "df['flatness'] = df['Curvature']"
   ]
  },
  {
   "cell_type": "code",
   "execution_count": 59,
   "id": "49543792",
   "metadata": {},
   "outputs": [
    {
     "data": {
      "application/vnd.jupyter.widget-view+json": {
       "model_id": "2c6d56ae22df47c1af65e59bf854ffa9",
       "version_major": 2,
       "version_minor": 0
      },
      "text/plain": [
       "VBox(children=(Figure(camera=PerspectiveCamera(fov=45.0, position=(0.0, 0.0, 2.0), projectionMatrix=(1.0, 0.0,…"
      ]
     },
     "metadata": {},
     "output_type": "display_data"
    }
   ],
   "source": [
    "fig = p3.figure(width=500)\n",
    "fig.xlabel='Y'\n",
    "fig.ylabel='Z'\n",
    "fig.zlabel='X'\n",
    "all_points = p3.scatter(df['Y'], df['flatness'], df['X'], color='viridis', size=.5)\n",
    "p3.squarelim()\n",
    "p3.show()"
   ]
  },
  {
   "cell_type": "code",
   "execution_count": null,
   "id": "d0201743",
   "metadata": {},
   "outputs": [],
   "source": []
  },
  {
   "cell_type": "code",
   "execution_count": null,
   "id": "4285e878",
   "metadata": {},
   "outputs": [],
   "source": []
  },
  {
   "cell_type": "code",
   "execution_count": null,
   "id": "cd1748a6",
   "metadata": {},
   "outputs": [],
   "source": []
  },
  {
   "cell_type": "code",
   "execution_count": null,
   "id": "d0fcf803",
   "metadata": {},
   "outputs": [],
   "source": []
  },
  {
   "cell_type": "code",
   "execution_count": null,
   "id": "85e8aa57",
   "metadata": {},
   "outputs": [],
   "source": []
  },
  {
   "cell_type": "code",
   "execution_count": null,
   "id": "b2cdc05a",
   "metadata": {},
   "outputs": [],
   "source": []
  },
  {
   "cell_type": "code",
   "execution_count": null,
   "id": "16ac52c2",
   "metadata": {},
   "outputs": [],
   "source": []
  },
  {
   "cell_type": "code",
   "execution_count": null,
   "id": "447deb29",
   "metadata": {},
   "outputs": [],
   "source": []
  },
  {
   "cell_type": "code",
   "execution_count": null,
   "id": "e2d2eb54",
   "metadata": {},
   "outputs": [],
   "source": []
  },
  {
   "cell_type": "code",
   "execution_count": null,
   "id": "24ca5383",
   "metadata": {},
   "outputs": [],
   "source": []
  },
  {
   "cell_type": "code",
   "execution_count": null,
   "id": "265fc701",
   "metadata": {},
   "outputs": [],
   "source": [
    "{\n",
    "            \"type\": \"writers.las\",\n",
    "            \"compression\": \"true\",\n",
    "            \"minor_version\": \"2\",\n",
    "            \"dataformat_id\": \"3\",\n",
    "            \"filename\":\"/home/jose/Documents/LiDAR/TM/GIS_data/mine_locations/mine_loc_0/mine0_color.las\"\n",
    "        }"
   ]
  },
  {
   "cell_type": "code",
   "execution_count": 16,
   "id": "fd7db9cc",
   "metadata": {},
   "outputs": [
    {
     "ename": "RuntimeError",
     "evalue": "writers.las: Error in 'forward' option.  Unknown field for forwarding: 'Curvature'.",
     "output_type": "error",
     "traceback": [
      "\u001b[0;31m---------------------------------------------------------------------------\u001b[0m",
      "\u001b[0;31mRuntimeError\u001b[0m                              Traceback (most recent call last)",
      "\u001b[0;32m/tmp/ipykernel_48810/423753425.py\u001b[0m in \u001b[0;36m<module>\u001b[0;34m\u001b[0m\n\u001b[1;32m     12\u001b[0m     ]}\n\u001b[1;32m     13\u001b[0m \u001b[0mpipeline\u001b[0m \u001b[0;34m=\u001b[0m \u001b[0mpdal\u001b[0m\u001b[0;34m.\u001b[0m\u001b[0mPipeline\u001b[0m\u001b[0;34m(\u001b[0m\u001b[0mjson\u001b[0m\u001b[0;34m.\u001b[0m\u001b[0mdumps\u001b[0m\u001b[0;34m(\u001b[0m\u001b[0mwrite\u001b[0m\u001b[0;34m)\u001b[0m\u001b[0;34m)\u001b[0m\u001b[0;34m\u001b[0m\u001b[0;34m\u001b[0m\u001b[0m\n\u001b[0;32m---> 14\u001b[0;31m \u001b[0mpipeline\u001b[0m\u001b[0;34m.\u001b[0m\u001b[0mvalidate\u001b[0m\u001b[0;34m(\u001b[0m\u001b[0;34m)\u001b[0m\u001b[0;34m\u001b[0m\u001b[0;34m\u001b[0m\u001b[0m\n\u001b[0m\u001b[1;32m     15\u001b[0m \u001b[0mget_ipython\u001b[0m\u001b[0;34m(\u001b[0m\u001b[0;34m)\u001b[0m\u001b[0;34m.\u001b[0m\u001b[0mrun_line_magic\u001b[0m\u001b[0;34m(\u001b[0m\u001b[0;34m'time'\u001b[0m\u001b[0;34m,\u001b[0m \u001b[0;34m'n_points = pipeline.execute()'\u001b[0m\u001b[0;34m)\u001b[0m\u001b[0;34m\u001b[0m\u001b[0;34m\u001b[0m\u001b[0m\n\u001b[1;32m     16\u001b[0m \u001b[0mprint\u001b[0m\u001b[0;34m(\u001b[0m\u001b[0;34m'Pipeline selected {} points'\u001b[0m\u001b[0;34m.\u001b[0m\u001b[0mformat\u001b[0m\u001b[0;34m(\u001b[0m\u001b[0mn_points\u001b[0m\u001b[0;34m)\u001b[0m\u001b[0;34m)\u001b[0m\u001b[0;34m\u001b[0m\u001b[0;34m\u001b[0m\u001b[0m\n",
      "\u001b[0;32m~/miniconda3/envs/pdal/lib/python3.9/site-packages/pdal/pipeline.py\u001b[0m in \u001b[0;36mvalidate\u001b[0;34m(self)\u001b[0m\n\u001b[1;32m     41\u001b[0m \u001b[0;34m\u001b[0m\u001b[0m\n\u001b[1;32m     42\u001b[0m     \u001b[0;32mdef\u001b[0m \u001b[0mvalidate\u001b[0m\u001b[0;34m(\u001b[0m\u001b[0mself\u001b[0m\u001b[0;34m)\u001b[0m\u001b[0;34m:\u001b[0m\u001b[0;34m\u001b[0m\u001b[0;34m\u001b[0m\u001b[0m\n\u001b[0;32m---> 43\u001b[0;31m         \u001b[0;32mreturn\u001b[0m \u001b[0mself\u001b[0m\u001b[0;34m.\u001b[0m\u001b[0mp\u001b[0m\u001b[0;34m.\u001b[0m\u001b[0mvalidate\u001b[0m\u001b[0;34m(\u001b[0m\u001b[0;34m)\u001b[0m\u001b[0;34m\u001b[0m\u001b[0;34m\u001b[0m\u001b[0m\n\u001b[0m\u001b[1;32m     44\u001b[0m \u001b[0;34m\u001b[0m\u001b[0m\n\u001b[1;32m     45\u001b[0m     \u001b[0;32mdef\u001b[0m \u001b[0mget_arrays\u001b[0m\u001b[0;34m(\u001b[0m\u001b[0mself\u001b[0m\u001b[0;34m)\u001b[0m\u001b[0;34m:\u001b[0m\u001b[0;34m\u001b[0m\u001b[0;34m\u001b[0m\u001b[0m\n",
      "\u001b[0;32mlibpdalpython.pyx\u001b[0m in \u001b[0;36mpdal.libpdalpython.PyPipeline.validate\u001b[0;34m()\u001b[0m\n",
      "\u001b[0;31mRuntimeError\u001b[0m: writers.las: Error in 'forward' option.  Unknown field for forwarding: 'Curvature'."
     ]
    }
   ],
   "source": [
    "write = {\n",
    "    \"pipeline\": [ TM_las,\n",
    "        {   \"type\":\"filters.eigenvalues\",\n",
    "            \"knn\":16},\n",
    "        {   \"type\":\"filters.normal\",\n",
    "            \"knn\":16},\n",
    "                 \n",
    "        {   \"type\":\"writers.las\",\n",
    "            \"filename\":py_export+\"/outputfile1.las\",\n",
    "            \"forward\":\"Curvature\"}\n",
    "         \n",
    "    ]}\n",
    "pipeline = pdal.Pipeline(json.dumps(write))\n",
    "pipeline.validate()\n",
    "%time n_points = pipeline.execute()\n",
    "print('Pipeline selected {} points'.format(n_points))"
   ]
  },
  {
   "cell_type": "code",
   "execution_count": 43,
   "id": "ddf2b2bc",
   "metadata": {},
   "outputs": [
    {
     "name": "stderr",
     "output_type": "stream",
     "text": [
      "CPU times: user 305 ms, sys: 32.1 ms, total: 338 ms\n",
      "Wall time: 338 ms\n",
      "Pipeline selected 543604 points\n"
     ]
    }
   ],
   "source": [
    "write = {\n",
    "    \"pipeline\": [\n",
    "        {   \"type\":\"readers.numpy\",\n",
    "            \"filename\":\"/home/jose/Github/my_projs/abm_detect/Figures/python_export/TM_lidar/numpy_test.npy\"},\n",
    "                 \n",
    "        {   \"type\":\"writers.las\",\n",
    "            \"filename\":py_export+\"/outputfile1.las\"}\n",
    "         \n",
    "    ]}\n",
    "pipeline = pdal.Pipeline(json.dumps(write))\n",
    "pipeline.validate()\n",
    "%time n_points = pipeline.execute()\n",
    "print('Pipeline selected {} points'.format(n_points))\n"
   ]
  },
  {
   "cell_type": "code",
   "execution_count": null,
   "id": "b7dfdbcd",
   "metadata": {},
   "outputs": [],
   "source": [
    "[\n",
    "    \"uncolored.las\",\n",
    "    {\n",
    "      \"type\":\"filters.colorization\",\n",
    "      \"dimensions\":\"Red:1:1.0, Blue, Green::256.0\",\n",
    "      \"raster\":\"aerial.tif\"\n",
    "    },\n",
    "    \"colorized.las\"\n",
    "]\n"
   ]
  },
  {
   "cell_type": "code",
   "execution_count": 40,
   "id": "1b7799f0",
   "metadata": {},
   "outputs": [],
   "source": [
    "np.save(py_export+'/numpy_test',arr,allow_pickle=False)"
   ]
  },
  {
   "cell_type": "code",
   "execution_count": null,
   "id": "1852787b",
   "metadata": {},
   "outputs": [],
   "source": []
  },
  {
   "cell_type": "code",
   "execution_count": null,
   "id": "3bd8921a",
   "metadata": {},
   "outputs": [],
   "source": []
  },
  {
   "cell_type": "code",
   "execution_count": null,
   "id": "2421a718",
   "metadata": {},
   "outputs": [],
   "source": []
  }
 ],
 "metadata": {
  "kernelspec": {
   "display_name": "Python 3 (ipykernel)",
   "language": "python",
   "name": "python3"
  },
  "language_info": {
   "codemirror_mode": {
    "name": "ipython",
    "version": 3
   },
   "file_extension": ".py",
   "mimetype": "text/x-python",
   "name": "python",
   "nbconvert_exporter": "python",
   "pygments_lexer": "ipython3",
   "version": "3.9.7"
  }
 },
 "nbformat": 4,
 "nbformat_minor": 5
}
