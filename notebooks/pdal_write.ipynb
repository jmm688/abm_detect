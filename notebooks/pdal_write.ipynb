{
 "cells": [
  {
   "cell_type": "code",
   "execution_count": 1,
   "id": "b8b469fc",
   "metadata": {},
   "outputs": [
    {
     "data": {
      "text/plain": [
       "'\\nThe purpose of this note book is to automate point cloud to Gtif in a more python friendly way.\\nThe goal is to use some of the prexisting functions in abm_detect to streamline this.\\n\\nOtherwise its just good ol:\\npdal pipeline script.json\\n\\n\\nfrom the comand line...\\nwhich is really REALLY fast... but hard to experiment with :(\\n'"
      ]
     },
     "execution_count": 1,
     "metadata": {},
     "output_type": "execute_result"
    }
   ],
   "source": [
    "'''\n",
    "The purpose of this note book is to automate point cloud to Gtif in a more python friendly way.\n",
    "The goal is to use some of the prexisting functions in abm_detect to streamline this.\n",
    "\n",
    "Otherwise its just good ol:\n",
    "pdal pipeline script.json\n",
    "\n",
    "\n",
    "from the comand line...\n",
    "which is really REALLY fast... but hard to experiment with :(\n",
    "'''\n"
   ]
  },
  {
   "cell_type": "code",
   "execution_count": 2,
   "id": "f355e27d",
   "metadata": {},
   "outputs": [],
   "source": [
    "import pdal\n",
    "import ipyleaflet\n",
    "import IPython.display\n",
    "import ipyvolume.pylab as p3\n",
    "import matplotlib.cm\n",
    "import matplotlib.pyplot as plt\n",
    "import numpy as np\n",
    "import pandas as pd\n",
    "import shapely.geometry\n",
    "import scipy.spatial\n",
    "\n",
    "import os\n",
    "import requests\n",
    "import json\n",
    "import sys\n",
    "import urllib.request\n"
   ]
  },
  {
   "cell_type": "code",
   "execution_count": 3,
   "id": "8e01be60",
   "metadata": {},
   "outputs": [],
   "source": [
    "### Important directory paths\n",
    "\n",
    "TM_las = '/home/jose/Documents/LiDAR/TM/input_LAS/points.laz'\n",
    "py_export = '/home/jose/Github/my_projs/abm_detect/Figures/python_export/TM_lidar'"
   ]
  },
  {
   "cell_type": "code",
   "execution_count": 4,
   "id": "dbd32573",
   "metadata": {},
   "outputs": [
    {
     "data": {
      "application/vnd.jupyter.widget-view+json": {
       "model_id": "b81f156987aa43bf83f8f90807bb8f95",
       "version_major": 2,
       "version_minor": 0
      },
      "text/plain": [
       "Map(center=[32.29, 253.3], controls=(ZoomControl(options=['position', 'zoom_in_text', 'zoom_in_title', 'zoom_o…"
      ]
     },
     "metadata": {},
     "output_type": "display_data"
    }
   ],
   "source": [
    "m = ipyleaflet.Map(center=(32.29, 253.3), zoom=13)\n",
    "m"
   ]
  },
  {
   "cell_type": "code",
   "execution_count": null,
   "id": "644d052a",
   "metadata": {},
   "outputs": [],
   "source": [
    "# IS USED FOR POLYGONS! not really needed seing as ipyleaflet uses osm. only see da roads :(\n",
    "dc = ipyleaflet.DrawControl()\n",
    "m.add_control(dc)"
   ]
  },
  {
   "cell_type": "code",
   "execution_count": null,
   "id": "b68bc380",
   "metadata": {},
   "outputs": [],
   "source": [
    "dc.last_draw['geometry']['coordinates'][0]  # the coordinates of the drawn polygon"
   ]
  },
  {
   "cell_type": "code",
   "execution_count": null,
   "id": "7e0acdfb",
   "metadata": {},
   "outputs": [],
   "source": [
    "# Takes 1hr and 17 mins to run 299338174\n",
    "cropper = {\n",
    "    \"pipeline\": [ TM_las,\n",
    "        {   \"type\":\"filters.eigenvalues\",\n",
    "            \"knn\":16},\n",
    "        {   \"type\":\"filters.normal\",\n",
    "            \"knn\":16}\n",
    "    ]}\n",
    "pipeline = pdal.Pipeline(json.dumps(cropper))\n",
    "pipeline.validate()\n",
    "%time n_points = pipeline.execute()\n",
    "print('Pipeline selected {} points'.format(n_points))"
   ]
  },
  {
   "cell_type": "code",
   "execution_count": null,
   "id": "4f7b05b3",
   "metadata": {},
   "outputs": [],
   "source": [
    "#creating numpy and pandas objects from pdal pipeline\n",
    "arr = pipeline.arrays[0]\n",
    "description = arr.dtype.descr\n",
    "cols = [col for col, __ in description]\n",
    "df = pd.DataFrame({col: arr[col] for col in cols})\n",
    "df['X_0'] = df['X']\n",
    "df['Y_0'] = df['Y']\n",
    "df['Z_0'] = df['Z']\n",
    "df['X'] = df['X'] - df['X_0'].min()\n",
    "df['Y'] = df['Y'] - df['Y_0'].min()\n",
    "df['Z'] = df['Z'] - df['Z_0'].min()"
   ]
  },
  {
   "cell_type": "code",
   "execution_count": null,
   "id": "de8c76d0",
   "metadata": {},
   "outputs": [],
   "source": [
    "598007.598339 \t  Ymin = 5059576.691053 \t  Xmax = 600535.442345 \t  Ymax = 5060126.433775"
   ]
  },
  {
   "cell_type": "code",
   "execution_count": null,
   "id": "e43ac300",
   "metadata": {},
   "outputs": [],
   "source": []
  },
  {
   "cell_type": "code",
   "execution_count": null,
   "id": "81386715",
   "metadata": {},
   "outputs": [],
   "source": []
  },
  {
   "cell_type": "code",
   "execution_count": null,
   "id": "98583bd7",
   "metadata": {},
   "outputs": [],
   "source": [
    "'''\n",
    "Reading into memory a point cloud las file and computing the eigenvalues and normal vectors.\n",
    "  - Returns an array and descriptions which can later be used to generate pandas dataframes\n",
    "'''\n",
    "\n",
    "\n",
    "# reading into memory a point cloud las file and computing the eigenvalues and normal vectors.\n",
    "# extracting array\n",
    "def get_las(input_f,knn_int):\n",
    "    \n",
    "    def pipeline(json_obj):\n",
    "        pipeline = pdal.Pipeline(json_obj)\n",
    "        pipeline.validate()\n",
    "        time n_points = pipeline.execute()\n",
    "        print('Pipeline selected {} points'.format(n_points))\n",
    "        pipeline_obj = pipeline\n",
    "        \n",
    "        return pipeline_obj\n",
    "    \n",
    "    pipeline_dict = {\n",
    "        \"pipeline\": [ \n",
    "            input_f,\n",
    "            {   \"type\":\"filters.eigenvalues\",\n",
    "                \"knn\":knn_int},\n",
    "            {   \"type\":\"filters.normal\",\n",
    "                \"knn\":knn_int}\n",
    "        ]\n",
    "    }\n",
    "    \n",
    "    json_obj = json.dumps(pipeline_dict)\n",
    "    pdal_obj = pipeline(json_obj)\n",
    "    return pdal_obj.arrays[0], pdal_obj.arrays[0].dtype.descr\n",
    "    \n",
    "\n",
    "a = get_las( TM_las, knn_int = 16 )\n",
    "data, description = a[0], a[1]"
   ]
  },
  {
   "cell_type": "code",
   "execution_count": null,
   "id": "18d89715",
   "metadata": {},
   "outputs": [],
   "source": [
    "\n",
    "cols = [col for col, __ in description]\n",
    "df = pd.DataFrame({col: data[col] for col in cols})\n",
    "df['X_0'] = df['X']\n",
    "df['Y_0'] = df['Y']\n",
    "df['Z_0'] = df['Z']\n",
    "df['X'] = df['X'] - df['X_0'].min()\n",
    "df['Y'] = df['Y'] - df['Y_0'].min()\n",
    "df['Z'] = df['Z'] - df['Z_0'].min()"
   ]
  },
  {
   "cell_type": "code",
   "execution_count": null,
   "id": "6faa61ee",
   "metadata": {},
   "outputs": [],
   "source": [
    "a[1]"
   ]
  },
  {
   "cell_type": "code",
   "execution_count": null,
   "id": "cbf2dd21",
   "metadata": {},
   "outputs": [],
   "source": []
  },
  {
   "cell_type": "code",
   "execution_count": null,
   "id": "d99fe147",
   "metadata": {},
   "outputs": [],
   "source": []
  },
  {
   "cell_type": "code",
   "execution_count": null,
   "id": "430e835c",
   "metadata": {},
   "outputs": [],
   "source": []
  },
  {
   "cell_type": "code",
   "execution_count": null,
   "id": "94b1bda4",
   "metadata": {},
   "outputs": [],
   "source": []
  },
  {
   "cell_type": "code",
   "execution_count": null,
   "id": "c2c3a7c4",
   "metadata": {},
   "outputs": [],
   "source": []
  },
  {
   "cell_type": "code",
   "execution_count": null,
   "id": "7ba32078",
   "metadata": {},
   "outputs": [],
   "source": []
  },
  {
   "cell_type": "code",
   "execution_count": 11,
   "id": "90cd4646",
   "metadata": {},
   "outputs": [],
   "source": [
    "def geom_calc(las_path, new_path, knn_int):\n",
    "    json_obj = {\n",
    "        \"pipeline\": [\n",
    "            las_path,\n",
    "            {\n",
    "               \"type\":\"filters.eigenvalues\",\n",
    "                \"knn\":knn_int},\n",
    "\n",
    "            {  \"type\":\"filters.normal\",\n",
    "                \"knn\":knn_int},\n",
    "\n",
    "            {\n",
    "                \"type\":\"writers.bpf\",\n",
    "                \"filename\":new_path\n",
    "            }\n",
    "        ]\n",
    "\n",
    "    }\n",
    "    \n",
    "    pipeline = pdal.Pipeline(json.dumps(json_obj))\n",
    "    pipeline.validate()\n",
    "    n_points = pipeline.execute()\n",
    "    print('Pipeline selected {} points'.format(n_points))\n",
    "    \n",
    "    \n",
    "    "
   ]
  },
  {
   "cell_type": "code",
   "execution_count": 12,
   "id": "54dda296",
   "metadata": {},
   "outputs": [
    {
     "name": "stdout",
     "output_type": "stream",
     "text": [
      "Pipeline selected 299338174 points\n"
     ]
    }
   ],
   "source": [
    "las_path = TM_las\n",
    "new_path = py_export + '/' + 'TMall.bpf'\n",
    "\n",
    "geom_calc(las_path, new_path, knn_int=16)"
   ]
  },
  {
   "cell_type": "code",
   "execution_count": 20,
   "id": "34493376",
   "metadata": {},
   "outputs": [],
   "source": [
    "\n",
    "def bpf2tiff(bpf_path, write_path,dimension):\n",
    "    json_obj ={\n",
    "        \"pipeline\": [\n",
    "            bpf_path,\n",
    "\n",
    "        {\n",
    "                \"resolution\": 1,\n",
    "                \"radius\": 1.41,\n",
    "                \"dimension\": \"curvature\"\n",
    "                \"gdaldriver\": \"Gtiff\",\n",
    "                \"filename\": write_path\n",
    "\n",
    "        }\n",
    "\n",
    "\n",
    "        ]\n",
    "    }\n",
    "    \n",
    "    pipeline = pdal.Pipeline(json.dumps(json_obj))\n",
    "    pipeline.validate()\n",
    "    n_points = pipeline.execute()\n",
    "    print('Pipeline selected {} points'.format(n_points))\n",
    "\n",
    "\n",
    "    \n",
    "#bpf2tiff(bpf_path, write_path,dimension)"
   ]
  },
  {
   "cell_type": "code",
   "execution_count": 21,
   "id": "72bed3cb",
   "metadata": {},
   "outputs": [
    {
     "ename": "RuntimeError",
     "evalue": "writers.text: Unexpected argument 'gdaldriver'.",
     "output_type": "error",
     "traceback": [
      "\u001b[0;31m---------------------------------------------------------------------------\u001b[0m",
      "\u001b[0;31mRuntimeError\u001b[0m                              Traceback (most recent call last)",
      "\u001b[0;32m/tmp/ipykernel_425413/3080534847.py\u001b[0m in \u001b[0;36m<module>\u001b[0;34m\u001b[0m\n\u001b[1;32m      3\u001b[0m \u001b[0mdimension\u001b[0m\u001b[0;34m=\u001b[0m\u001b[0;34m'Curvature'\u001b[0m\u001b[0;34m\u001b[0m\u001b[0;34m\u001b[0m\u001b[0m\n\u001b[1;32m      4\u001b[0m \u001b[0;34m\u001b[0m\u001b[0m\n\u001b[0;32m----> 5\u001b[0;31m \u001b[0mbpf2tiff\u001b[0m\u001b[0;34m(\u001b[0m\u001b[0mbpf_path\u001b[0m\u001b[0;34m,\u001b[0m \u001b[0mwrite_path\u001b[0m\u001b[0;34m,\u001b[0m\u001b[0mdimension\u001b[0m\u001b[0;34m)\u001b[0m\u001b[0;34m\u001b[0m\u001b[0;34m\u001b[0m\u001b[0m\n\u001b[0m",
      "\u001b[0;32m/tmp/ipykernel_425413/1132092322.py\u001b[0m in \u001b[0;36mbpf2tiff\u001b[0;34m(bpf_path, write_path, dimension)\u001b[0m\n\u001b[1;32m     17\u001b[0m \u001b[0;34m\u001b[0m\u001b[0m\n\u001b[1;32m     18\u001b[0m     \u001b[0mpipeline\u001b[0m \u001b[0;34m=\u001b[0m \u001b[0mpdal\u001b[0m\u001b[0;34m.\u001b[0m\u001b[0mPipeline\u001b[0m\u001b[0;34m(\u001b[0m\u001b[0mjson\u001b[0m\u001b[0;34m.\u001b[0m\u001b[0mdumps\u001b[0m\u001b[0;34m(\u001b[0m\u001b[0mjson_obj\u001b[0m\u001b[0;34m)\u001b[0m\u001b[0;34m)\u001b[0m\u001b[0;34m\u001b[0m\u001b[0;34m\u001b[0m\u001b[0m\n\u001b[0;32m---> 19\u001b[0;31m     \u001b[0mpipeline\u001b[0m\u001b[0;34m.\u001b[0m\u001b[0mvalidate\u001b[0m\u001b[0;34m(\u001b[0m\u001b[0;34m)\u001b[0m\u001b[0;34m\u001b[0m\u001b[0;34m\u001b[0m\u001b[0m\n\u001b[0m\u001b[1;32m     20\u001b[0m     \u001b[0mn_points\u001b[0m \u001b[0;34m=\u001b[0m \u001b[0mpipeline\u001b[0m\u001b[0;34m.\u001b[0m\u001b[0mexecute\u001b[0m\u001b[0;34m(\u001b[0m\u001b[0;34m)\u001b[0m\u001b[0;34m\u001b[0m\u001b[0;34m\u001b[0m\u001b[0m\n\u001b[1;32m     21\u001b[0m     \u001b[0mprint\u001b[0m\u001b[0;34m(\u001b[0m\u001b[0;34m'Pipeline selected {} points'\u001b[0m\u001b[0;34m.\u001b[0m\u001b[0mformat\u001b[0m\u001b[0;34m(\u001b[0m\u001b[0mn_points\u001b[0m\u001b[0;34m)\u001b[0m\u001b[0;34m)\u001b[0m\u001b[0;34m\u001b[0m\u001b[0;34m\u001b[0m\u001b[0m\n",
      "\u001b[0;32m~/miniconda3/envs/pdal/lib/python3.9/site-packages/pdal/pipeline.py\u001b[0m in \u001b[0;36mvalidate\u001b[0;34m(self)\u001b[0m\n\u001b[1;32m     41\u001b[0m \u001b[0;34m\u001b[0m\u001b[0m\n\u001b[1;32m     42\u001b[0m     \u001b[0;32mdef\u001b[0m \u001b[0mvalidate\u001b[0m\u001b[0;34m(\u001b[0m\u001b[0mself\u001b[0m\u001b[0;34m)\u001b[0m\u001b[0;34m:\u001b[0m\u001b[0;34m\u001b[0m\u001b[0;34m\u001b[0m\u001b[0m\n\u001b[0;32m---> 43\u001b[0;31m         \u001b[0;32mreturn\u001b[0m \u001b[0mself\u001b[0m\u001b[0;34m.\u001b[0m\u001b[0mp\u001b[0m\u001b[0;34m.\u001b[0m\u001b[0mvalidate\u001b[0m\u001b[0;34m(\u001b[0m\u001b[0;34m)\u001b[0m\u001b[0;34m\u001b[0m\u001b[0;34m\u001b[0m\u001b[0m\n\u001b[0m\u001b[1;32m     44\u001b[0m \u001b[0;34m\u001b[0m\u001b[0m\n\u001b[1;32m     45\u001b[0m     \u001b[0;32mdef\u001b[0m \u001b[0mget_arrays\u001b[0m\u001b[0;34m(\u001b[0m\u001b[0mself\u001b[0m\u001b[0;34m)\u001b[0m\u001b[0;34m:\u001b[0m\u001b[0;34m\u001b[0m\u001b[0;34m\u001b[0m\u001b[0m\n",
      "\u001b[0;32mlibpdalpython.pyx\u001b[0m in \u001b[0;36mpdal.libpdalpython.PyPipeline.validate\u001b[0;34m()\u001b[0m\n",
      "\u001b[0;31mRuntimeError\u001b[0m: writers.text: Unexpected argument 'gdaldriver'."
     ]
    }
   ],
   "source": [
    "bpf_path=new_path\n",
    "write_path=py_export + '/' + 'TMall_curvature'\n",
    "dimension='Curvature'\n",
    "\n",
    "bpf2tiff(bpf_path, write_path,dimension)"
   ]
  },
  {
   "cell_type": "code",
   "execution_count": 22,
   "id": "027db382",
   "metadata": {},
   "outputs": [
    {
     "data": {
      "text/plain": [
       "'/home/jose/Github/my_projs/abm_detect/Figures/python_export/TM_lidar/TMall.bpf'"
      ]
     },
     "execution_count": 22,
     "metadata": {},
     "output_type": "execute_result"
    }
   ],
   "source": [
    "bpf_path"
   ]
  },
  {
   "cell_type": "code",
   "execution_count": null,
   "id": "d6de15b7",
   "metadata": {},
   "outputs": [],
   "source": []
  },
  {
   "cell_type": "code",
   "execution_count": null,
   "id": "ae3d0605",
   "metadata": {},
   "outputs": [],
   "source": []
  },
  {
   "cell_type": "code",
   "execution_count": null,
   "id": "2e8790af",
   "metadata": {},
   "outputs": [],
   "source": []
  },
  {
   "cell_type": "code",
   "execution_count": null,
   "id": "0e4cd451",
   "metadata": {},
   "outputs": [],
   "source": []
  },
  {
   "cell_type": "code",
   "execution_count": null,
   "id": "1c7adef3",
   "metadata": {},
   "outputs": [],
   "source": []
  },
  {
   "cell_type": "code",
   "execution_count": null,
   "id": "2acecab3",
   "metadata": {},
   "outputs": [],
   "source": []
  },
  {
   "cell_type": "code",
   "execution_count": null,
   "id": "c009cdf7",
   "metadata": {},
   "outputs": [],
   "source": []
  },
  {
   "cell_type": "code",
   "execution_count": null,
   "id": "4ccc4f8e",
   "metadata": {},
   "outputs": [],
   "source": []
  },
  {
   "cell_type": "code",
   "execution_count": null,
   "id": "564d71e7",
   "metadata": {},
   "outputs": [],
   "source": []
  }
 ],
 "metadata": {
  "kernelspec": {
   "display_name": "Python 3 (ipykernel)",
   "language": "python",
   "name": "python3"
  },
  "language_info": {
   "codemirror_mode": {
    "name": "ipython",
    "version": 3
   },
   "file_extension": ".py",
   "mimetype": "text/x-python",
   "name": "python",
   "nbconvert_exporter": "python",
   "pygments_lexer": "ipython3",
   "version": "3.9.7"
  }
 },
 "nbformat": 4,
 "nbformat_minor": 5
}
